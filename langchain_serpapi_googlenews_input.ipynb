{
 "cells": [
  {
   "cell_type": "markdown",
   "metadata": {},
   "source": [
    "### 가상환경 세팅"
   ]
  },
  {
   "cell_type": "code",
   "execution_count": 15,
   "metadata": {},
   "outputs": [],
   "source": [
    "# python -m venv 파일명_env\n",
    "# 파일명_env\\Scripts\\activate.bat"
   ]
  },
  {
   "cell_type": "markdown",
   "metadata": {},
   "source": [
    "### 필요한 라이브러리 설치"
   ]
  },
  {
   "cell_type": "code",
   "execution_count": 16,
   "metadata": {},
   "outputs": [
    {
     "name": "stdout",
     "output_type": "stream",
     "text": [
      "Note: you may need to restart the kernel to use updated packages.\n"
     ]
    },
    {
     "name": "stderr",
     "output_type": "stream",
     "text": [
      "\n",
      "[notice] A new release of pip is available: 24.0 -> 24.2\n",
      "[notice] To update, run: python.exe -m pip install --upgrade pip\n"
     ]
    }
   ],
   "source": [
    "pip install langchain -q"
   ]
  },
  {
   "cell_type": "code",
   "execution_count": 17,
   "metadata": {},
   "outputs": [
    {
     "name": "stdout",
     "output_type": "stream",
     "text": [
      "Note: you may need to restart the kernel to use updated packages.\n"
     ]
    },
    {
     "name": "stderr",
     "output_type": "stream",
     "text": [
      "\n",
      "[notice] A new release of pip is available: 24.0 -> 24.2\n",
      "[notice] To update, run: python.exe -m pip install --upgrade pip\n"
     ]
    }
   ],
   "source": [
    "pip install langchain-openai -q"
   ]
  },
  {
   "cell_type": "code",
   "execution_count": 18,
   "metadata": {},
   "outputs": [
    {
     "name": "stdout",
     "output_type": "stream",
     "text": [
      "Note: you may need to restart the kernel to use updated packages.\n"
     ]
    },
    {
     "name": "stderr",
     "output_type": "stream",
     "text": [
      "\n",
      "[notice] A new release of pip is available: 24.0 -> 24.2\n",
      "[notice] To update, run: python.exe -m pip install --upgrade pip\n"
     ]
    }
   ],
   "source": [
    "pip install google-search-results -q"
   ]
  },
  {
   "cell_type": "code",
   "execution_count": 19,
   "metadata": {},
   "outputs": [
    {
     "name": "stdout",
     "output_type": "stream",
     "text": [
      "Note: you may need to restart the kernel to use updated packages.Requirement already satisfied: beautifulsoup4 in c:\\users\\lofib\\downloads\\langchain_serpapi-main\\langchain_serpapi_env\\lib\\site-packages (4.12.3)\n",
      "Requirement already satisfied: soupsieve>1.2 in c:\\users\\lofib\\downloads\\langchain_serpapi-main\\langchain_serpapi_env\\lib\\site-packages (from beautifulsoup4) (2.5)\n",
      "\n"
     ]
    },
    {
     "name": "stderr",
     "output_type": "stream",
     "text": [
      "\n",
      "[notice] A new release of pip is available: 24.0 -> 24.2\n",
      "[notice] To update, run: python.exe -m pip install --upgrade pip\n"
     ]
    }
   ],
   "source": [
    "pip install beautifulsoup4 "
   ]
  },
  {
   "cell_type": "markdown",
   "metadata": {},
   "source": [
    "### 환경설정"
   ]
  },
  {
   "cell_type": "markdown",
   "metadata": {},
   "source": [
    "환경변수에 API_KEY 저장"
   ]
  },
  {
   "cell_type": "code",
   "execution_count": 20,
   "metadata": {},
   "outputs": [],
   "source": [
    "import os\n",
    "\n",
    "os.environ[\"OPENAI_API_KEY\"] = 'api_key'\n",
    "os.environ[\"SERPAPI_API_KEY\"] = 'api_key'"
   ]
  },
  {
   "cell_type": "markdown",
   "metadata": {},
   "source": [
    "### SerpAPI 활용해서 구글 뉴스 데이터 수집"
   ]
  },
  {
   "cell_type": "markdown",
   "metadata": {},
   "source": [
    "1. 엔진 구글로 지정 후 원하는 키워드 검색"
   ]
  },
  {
   "cell_type": "code",
   "execution_count": 21,
   "metadata": {},
   "outputs": [
    {
     "name": "stdout",
     "output_type": "stream",
     "text": [
      "Requirement already satisfied: langchain_community in c:\\users\\lofib\\downloads\\langchain_serpapi-main\\langchain_serpapi_env\\lib\\site-packages (0.2.12)\n",
      "Requirement already satisfied: PyYAML>=5.3 in c:\\users\\lofib\\downloads\\langchain_serpapi-main\\langchain_serpapi_env\\lib\\site-packages (from langchain_community) (6.0.2)\n",
      "Requirement already satisfied: SQLAlchemy<3,>=1.4 in c:\\users\\lofib\\downloads\\langchain_serpapi-main\\langchain_serpapi_env\\lib\\site-packages (from langchain_community) (2.0.32)\n",
      "Requirement already satisfied: aiohttp<4.0.0,>=3.8.3 in c:\\users\\lofib\\downloads\\langchain_serpapi-main\\langchain_serpapi_env\\lib\\site-packages (from langchain_community) (3.10.3)\n",
      "Requirement already satisfied: dataclasses-json<0.7,>=0.5.7 in c:\\users\\lofib\\downloads\\langchain_serpapi-main\\langchain_serpapi_env\\lib\\site-packages (from langchain_community) (0.6.7)\n",
      "Requirement already satisfied: langchain<0.3.0,>=0.2.13 in c:\\users\\lofib\\downloads\\langchain_serpapi-main\\langchain_serpapi_env\\lib\\site-packages (from langchain_community) (0.2.13)\n",
      "Requirement already satisfied: langchain-core<0.3.0,>=0.2.30 in c:\\users\\lofib\\downloads\\langchain_serpapi-main\\langchain_serpapi_env\\lib\\site-packages (from langchain_community) (0.2.30)\n",
      "Requirement already satisfied: langsmith<0.2.0,>=0.1.0 in c:\\users\\lofib\\downloads\\langchain_serpapi-main\\langchain_serpapi_env\\lib\\site-packages (from langchain_community) (0.1.99)\n",
      "Requirement already satisfied: numpy<2.0.0,>=1.26.0 in c:\\users\\lofib\\downloads\\langchain_serpapi-main\\langchain_serpapi_env\\lib\\site-packages (from langchain_community) (1.26.4)\n",
      "Requirement already satisfied: requests<3,>=2 in c:\\users\\lofib\\downloads\\langchain_serpapi-main\\langchain_serpapi_env\\lib\\site-packages (from langchain_community) (2.32.3)\n",
      "Requirement already satisfied: tenacity!=8.4.0,<9.0.0,>=8.1.0 in c:\\users\\lofib\\downloads\\langchain_serpapi-main\\langchain_serpapi_env\\lib\\site-packages (from langchain_community) (8.5.0)\n",
      "Requirement already satisfied: aiohappyeyeballs>=2.3.0 in c:\\users\\lofib\\downloads\\langchain_serpapi-main\\langchain_serpapi_env\\lib\\site-packages (from aiohttp<4.0.0,>=3.8.3->langchain_community) (2.3.5)\n",
      "Requirement already satisfied: aiosignal>=1.1.2 in c:\\users\\lofib\\downloads\\langchain_serpapi-main\\langchain_serpapi_env\\lib\\site-packages (from aiohttp<4.0.0,>=3.8.3->langchain_community) (1.3.1)\n",
      "Requirement already satisfied: attrs>=17.3.0 in c:\\users\\lofib\\downloads\\langchain_serpapi-main\\langchain_serpapi_env\\lib\\site-packages (from aiohttp<4.0.0,>=3.8.3->langchain_community) (24.2.0)\n",
      "Requirement already satisfied: frozenlist>=1.1.1 in c:\\users\\lofib\\downloads\\langchain_serpapi-main\\langchain_serpapi_env\\lib\\site-packages (from aiohttp<4.0.0,>=3.8.3->langchain_community) (1.4.1)\n",
      "Requirement already satisfied: multidict<7.0,>=4.5 in c:\\users\\lofib\\downloads\\langchain_serpapi-main\\langchain_serpapi_env\\lib\\site-packages (from aiohttp<4.0.0,>=3.8.3->langchain_community) (6.0.5)\n",
      "Requirement already satisfied: yarl<2.0,>=1.0 in c:\\users\\lofib\\downloads\\langchain_serpapi-main\\langchain_serpapi_env\\lib\\site-packages (from aiohttp<4.0.0,>=3.8.3->langchain_community) (1.9.4)\n",
      "Requirement already satisfied: marshmallow<4.0.0,>=3.18.0 in c:\\users\\lofib\\downloads\\langchain_serpapi-main\\langchain_serpapi_env\\lib\\site-packages (from dataclasses-json<0.7,>=0.5.7->langchain_community) (3.21.3)\n",
      "Requirement already satisfied: typing-inspect<1,>=0.4.0 in c:\\users\\lofib\\downloads\\langchain_serpapi-main\\langchain_serpapi_env\\lib\\site-packages (from dataclasses-json<0.7,>=0.5.7->langchain_community) (0.9.0)\n",
      "Requirement already satisfied: langchain-text-splitters<0.3.0,>=0.2.0 in c:\\users\\lofib\\downloads\\langchain_serpapi-main\\langchain_serpapi_env\\lib\\site-packages (from langchain<0.3.0,>=0.2.13->langchain_community) (0.2.2)\n",
      "Requirement already satisfied: pydantic<3,>=1 in c:\\users\\lofib\\downloads\\langchain_serpapi-main\\langchain_serpapi_env\\lib\\site-packages (from langchain<0.3.0,>=0.2.13->langchain_community) (2.8.2)\n",
      "Requirement already satisfied: jsonpatch<2.0,>=1.33 in c:\\users\\lofib\\downloads\\langchain_serpapi-main\\langchain_serpapi_env\\lib\\site-packages (from langchain-core<0.3.0,>=0.2.30->langchain_community) (1.33)\n",
      "Requirement already satisfied: packaging<25,>=23.2 in c:\\users\\lofib\\downloads\\langchain_serpapi-main\\langchain_serpapi_env\\lib\\site-packages (from langchain-core<0.3.0,>=0.2.30->langchain_community) (24.1)\n",
      "Requirement already satisfied: typing-extensions>=4.7 in c:\\users\\lofib\\downloads\\langchain_serpapi-main\\langchain_serpapi_env\\lib\\site-packages (from langchain-core<0.3.0,>=0.2.30->langchain_community) (4.12.2)\n",
      "Requirement already satisfied: orjson<4.0.0,>=3.9.14 in c:\\users\\lofib\\downloads\\langchain_serpapi-main\\langchain_serpapi_env\\lib\\site-packages (from langsmith<0.2.0,>=0.1.0->langchain_community) (3.10.7)\n",
      "Requirement already satisfied: charset-normalizer<4,>=2 in c:\\users\\lofib\\downloads\\langchain_serpapi-main\\langchain_serpapi_env\\lib\\site-packages (from requests<3,>=2->langchain_community) (3.3.2)\n",
      "Requirement already satisfied: idna<4,>=2.5 in c:\\users\\lofib\\downloads\\langchain_serpapi-main\\langchain_serpapi_env\\lib\\site-packages (from requests<3,>=2->langchain_community) (3.7)\n",
      "Requirement already satisfied: urllib3<3,>=1.21.1 in c:\\users\\lofib\\downloads\\langchain_serpapi-main\\langchain_serpapi_env\\lib\\site-packages (from requests<3,>=2->langchain_community) (2.2.2)\n",
      "Requirement already satisfied: certifi>=2017.4.17 in c:\\users\\lofib\\downloads\\langchain_serpapi-main\\langchain_serpapi_env\\lib\\site-packages (from requests<3,>=2->langchain_community) (2024.7.4)\n",
      "Requirement already satisfied: greenlet!=0.4.17 in c:\\users\\lofib\\downloads\\langchain_serpapi-main\\langchain_serpapi_env\\lib\\site-packages (from SQLAlchemy<3,>=1.4->langchain_community) (3.0.3)\n",
      "Requirement already satisfied: jsonpointer>=1.9 in c:\\users\\lofib\\downloads\\langchain_serpapi-main\\langchain_serpapi_env\\lib\\site-packages (from jsonpatch<2.0,>=1.33->langchain-core<0.3.0,>=0.2.30->langchain_community) (3.0.0)\n",
      "Requirement already satisfied: annotated-types>=0.4.0 in c:\\users\\lofib\\downloads\\langchain_serpapi-main\\langchain_serpapi_env\\lib\\site-packages (from pydantic<3,>=1->langchain<0.3.0,>=0.2.13->langchain_community) (0.7.0)\n",
      "Requirement already satisfied: pydantic-core==2.20.1 in c:\\users\\lofib\\downloads\\langchain_serpapi-main\\langchain_serpapi_env\\lib\\site-packages (from pydantic<3,>=1->langchain<0.3.0,>=0.2.13->langchain_community) (2.20.1)\n",
      "Requirement already satisfied: mypy-extensions>=0.3.0 in c:\\users\\lofib\\downloads\\langchain_serpapi-main\\langchain_serpapi_env\\lib\\site-packages (from typing-inspect<1,>=0.4.0->dataclasses-json<0.7,>=0.5.7->langchain_community) (1.0.0)\n",
      "Note: you may need to restart the kernel to use updated packages.\n"
     ]
    },
    {
     "name": "stderr",
     "output_type": "stream",
     "text": [
      "\n",
      "[notice] A new release of pip is available: 24.0 -> 24.2\n",
      "[notice] To update, run: python.exe -m pip install --upgrade pip\n"
     ]
    }
   ],
   "source": [
    "pip install langchain_community"
   ]
  },
  {
   "cell_type": "code",
   "execution_count": 22,
   "metadata": {},
   "outputs": [
    {
     "data": {
      "text/plain": [
       "97"
      ]
     },
     "execution_count": 22,
     "metadata": {},
     "output_type": "execute_result"
    }
   ],
   "source": [
    "from langchain_community.utilities import SerpAPIWrapper\n",
    "\n",
    "# 공식 문서 주소 : https://serpapi.com/search-api \n",
    "# 'gl': 'Geolocation', 'hl': 'Host Language'\n",
    "param = {\n",
    "    \"engine\" : \"google_news\",\n",
    "    \"gl\" : \"KR\",\n",
    "    \"hl\" : \"ko\",\n",
    "}\n",
    "\n",
    "search = SerpAPIWrapper(params=param)\n",
    "\n",
    "results = search.run(\"클로드\")\n",
    "len(results)"
   ]
  },
  {
   "cell_type": "code",
   "execution_count": 23,
   "metadata": {},
   "outputs": [
    {
     "data": {
      "text/plain": [
       "{'position': 1,\n",
       " 'title': \"앤트로픽, '클로드 3.5 소네트' 출시...'GPT-4o' 제치고 최강 모델 탈환\",\n",
       " 'source': {'name': 'AI타임스',\n",
       "  'icon': 'https://encrypted-tbn0.gstatic.com/faviconV2?url=https://www.aitimes.com&client=NEWS_360&size=96&type=FAVICON&fallback_opts=TYPE,SIZE,URL'},\n",
       " 'link': 'https://www.aitimes.com/news/articleView.html?idxno=160843',\n",
       " 'thumbnail': 'https://cdn.aitimes.com/news/thumbnail/202406/160843_173716_83_v150.jpg',\n",
       " 'date': '06/21/2024, 07:00 AM, +0000 UTC'}"
      ]
     },
     "execution_count": 23,
     "metadata": {},
     "output_type": "execute_result"
    }
   ],
   "source": [
    "results[0]"
   ]
  },
  {
   "cell_type": "markdown",
   "metadata": {},
   "source": [
    "2. 키 확인 후 링크만 가져오기"
   ]
  },
  {
   "cell_type": "code",
   "execution_count": 24,
   "metadata": {},
   "outputs": [
    {
     "data": {
      "text/plain": [
       "'https://www.aitimes.com/news/articleView.html?idxno=160843'"
      ]
     },
     "execution_count": 24,
     "metadata": {},
     "output_type": "execute_result"
    }
   ],
   "source": [
    "url = results[0][\"link\"]\n",
    "url"
   ]
  },
  {
   "cell_type": "markdown",
   "metadata": {},
   "source": [
    "### WebBaseLoader 이용해서 웹페이지 읽기 및 분석"
   ]
  },
  {
   "cell_type": "markdown",
   "metadata": {},
   "source": [
    "1.  링크만 저장한 변수 WebBaseLoader 매개변수로 넣기"
   ]
  },
  {
   "cell_type": "code",
   "execution_count": 25,
   "metadata": {},
   "outputs": [
    {
     "name": "stderr",
     "output_type": "stream",
     "text": [
      "USER_AGENT environment variable not set, consider setting it to identify your requests.\n"
     ]
    },
    {
     "data": {
      "text/plain": [
       "Document(metadata={'source': 'https://www.aitimes.com/news/articleView.html?idxno=160843', 'title': \"앤트로픽, '클로드 3.5 소네트' 출시...'GPT-4o' 제치고 최강 모델 탈환 < 산업일반 < 산업 < 기사본문 - AI타임스\", 'description': \"클로드 3.5 소네트 (영상=앤트로픽)앤트로픽이 강력한 성능을 가진 새로운 AI 모델 ‘클로드 3.5 소네트(Claude 3.5 Sonnet)’를 공개했다. 벤치마크에서 오픈AI가 지난 5월 공개한 최신 모델 'GPT-4o'를 능가했다는 주장이다. 한달 만에 '현존 최고 성능' 모델 타이틀을 되찾은 셈이다.앤트로픽은 20일(현지시간) 블로그를 통해 클로드 3.5 모델 제품군 중 첫번째로 소네트를 출시한다고 발표했다.소네트는 앤트로픽의 제품군 중 중간급 모델이다. 가장 강력한 모델인 클로드 3.5 '오퍼스(Opus)', 경량 모델 클\", 'language': 'ko'}, page_content='\\n\\n\\n\\n\\n\\n\\n\\n\\n\\n\\n\\n\\n\\n\\n\\n\\n\\n\\n\\n\\n\\n\\n\\n\\n\\n\\n\\n\\n\\n\\n\\n\\n\\n\\n앤트로픽, \\'클로드 3.5 소네트\\' 출시...\\'GPT-4o\\' 제치고 최강 모델 탈환 < 산업일반 < 산업 < 기사본문 - AI타임스\\n\\n \\n\\n\\n\\n\\n\\n\\n\\n\\n\\n\\n\\n\\n\\n\\n\\n\\n\\n\\n\\n\\n\\n\\n\\n\\n\\n\\n\\n\\n\\n\\n\\n\\n\\n\\n\\n\\n\\n\\n\\n\\n\\n\\n\\n\\n\\n\\n\\n\\n\\n\\n\\n\\n\\n\\n\\n\\n\\n\\n\\n\\n주요서비스 바로가기\\n본문 바로가기\\n매체정보 바로가기\\n로그인 바로가기\\n기사검색 바로가기\\n전체서비스 바로가기\\n\\n\\n\\n\\n\\n\\n\\n\\n\\n\\n상단영역\\n\\n\\n\\n\\n\\n\\n\\n\\n\\n\\n\\n\\n\\n\\n\\n\\n\\n\\n\\n\\n\\n\\n\\n\\n\\n\\n\\n\\n\\n\\n\\n\\n\\n\\n\\n\\n\\n\\n\\n\\n\\n\\n\\n\\n\\n\\n\\n\\n\\n\\n\\n\\n\\n\\n\\n\\n\\n2024년 08월 13일 (화)\\n\\n\\n\\n로그인\\n회원가입\\n\\n\\n\\n\\n\\n\\n\\n\\n검색\\n\\n검색\\n\\n\\n\\n\\n\\n\\n\\n\\n\\n전체메뉴 버튼\\n\\n\\n\\n\\n전체기사\\n\\n\\n\\n\\n뉴스 브리핑\\n\\n\\n\\n\\nFeature\\n\\n\\n왔다!AI\\n\\n\\nChat with AI\\n\\n\\nAI 주크박스\\n\\n\\nAI 갤러리\\n\\n\\n체험기\\n\\n\\nAI 무비\\n\\n\\nAI & 푸드\\n\\n\\n\\n\\n인터뷰\\n\\n\\n\\n\\nFuture Energy\\n\\n\\n\\n\\nArt & Living\\n\\n\\nArt\\n\\n\\nLiving\\n\\n\\n\\n\\nGlobal\\n\\n\\n\\n\\n메타버스\\n\\n\\n\\n\\n\\n\\n\\n\\n뉴스레터 신청\\n\\n\\n\\n\\n\\n\\n\\n\\n\\n\\n\\n\\n\\n\\n메뉴닫기\\n\\n\\n\\n전체기사\\n뉴스 브리핑\\nFeature\\n\\n\\n왔다!AI\\nChat with AI\\nAI주크박스\\nAI 갤러리\\n체험기\\nAI 무비\\nAI & 푸드\\n\\n\\n\\n인터뷰\\nFuture Energy\\nArt & Living\\n\\n\\nArt\\nLiving\\n\\n\\nGlobal\\n메타버스\\n\\n\\n\\n\\n\\ninstagram\\n\\nnaverpost\\ntwitter\\n\\nyoutube\\n\\n\\n\\n\\n\\n\\n\\n\\n로그인\\n\\n\\n매체소개\\n기사제보\\n\\n\\n\\n\\n\\n\\n\\n\\n\\n\\n\\n\\n\\n\\n\\n\\n본문영역\\n\\n\\n\\n\\n\\n\\n\\n\\n\\n\\n\\n\\n\\n\\n\\n\\n\\n\\n\\n\\n\\n\\n\\n\\n\\n\\n\\n\\n\\n\\n\\n이전 기사\\n\\n\\n\\n\\n앤트로픽, \\'클로드 3.5 소네트\\' 출시...\\'GPT-4o\\' 제치고 최강 모델 탈환\\n\\nSNS 기사보내기\\n\\nSNS 기사보내기\\n\\n페이스북(으)로 기사보내기\\n\\n\\n트위터(으)로 기사보내기\\n\\n\\n카카오톡(으)로 기사보내기\\n\\n\\n네이버블로그(으)로 기사보내기\\n\\n\\n\\n\\n\\n\\n다음 기사\\n\\n\\n\\n스크롤 이동 상태바\\n\\n\\n\\n\\n\\n\\n\\n\\n\\n현재위치\\n\\n\\xa0홈\\n산업\\n산업일반\\n\\n\\n\\n바로가기\\n본문 글씨 줄이기\\n본문 글씨 키우기\\n\\n\\n앤트로픽, \\'클로드 3.5 소네트\\' 출시...\\'GPT-4o\\' 제치고 최강 모델 탈환\\n\\n\\n\\n\\n\\n기자명\\r\\n\\t\\t\\t\\t\\t박찬 기자\\t\\t\\t\\t\\n 입력 2024.06.21 18:05\\n 수정 2024.06.22 08:01\\n 댓글 1\\n 좋아요\\r\\n\\t\\t\\t\\t\\t0 \\n\\n\\n\\n\\n\\nSNS 기사보내기\\n\\nSNS 기사보내기\\n\\n페이스북(으)로 기사보내기\\n\\n\\n트위터(으)로 기사보내기\\n\\n\\n카카오톡(으)로 기사보내기\\n\\n\\n네이버블로그(으)로 기사보내기\\n\\nAI타임스 유튜브\\n\\n\\n\\n\\n\\n\\n\\n\\n이 기사를 공유합니다\\n\\n\\n\\n\\n페이스북(으)로 기사보내기\\n\\n\\n트위터(으)로 기사보내기\\n\\n\\n카카오톡(으)로 기사보내기\\n\\n\\n네이버블로그(으)로 기사보내기\\n\\n\\n\\n\\n\\n닫기\\n\\n\\n\\n\\n\\n\\n\\n\\n\\n\\n\\n\\n\\n\\n\\n\\n\\n클로드 3.5 소네트 (영상=앤트로픽)\\n\\n앤트로픽이 강력한 성능을 가진 새로운 AI 모델 ‘클로드 3.5 소네트(Claude 3.5 Sonnet)’를 공개했다. 벤치마크에서 오픈AI가 지난 5월\\xa0공개한 최신 모델 \\'GPT-4o\\'를 능가했다는 주장이다. 한달 만에 \\'현존 최고 성능\\' 모델 타이틀을 되찾은 셈이다.\\n앤트로픽은 20일(현지시간) 블로그를 통해 클로드 3.5 모델 제품군 중 첫번째로 소네트를 출시한다고 발표했다.\\n소네트는 앤트로픽의 제품군 중 중간급 모델이다. 가장 강력한 모델인 클로드 3.5 \\'오퍼스(Opus)\\', 경량 모델 클로드 3.5 \\'하이쿠(Haiku)\\'도 순차적으로 출시할 예정이다.\\xa0클로드 3.5 소네트은 웹과 iOS 환경에서 클로드 사용자들이 이미 이용할 수 있으며, 개발자들도 활용이 가능하다.\\n앤트로픽은 클로드 3.5 소네트가 지난 3월 출시한 최고 모델인 클로드 3 오퍼스 대비 2배 속도로 작동하며 비용은 클로드 3 오퍼스의 5분의1 수준으로 저렴해졌다고 밝혔다.\\n“뉘앙스, 유머, 복잡한 지침을 파악하는 능력이 현저히 향상됐다\"라며 \"자연스럽고 공감할 수 있는 어조로 고품질 콘텐츠를 작성하는 데 탁월하다”라고 소개했다.\\xa0\\n특히 코딩 능력이 뛰어나 정교한 추론 및 문제 해결 기능을 통해 독립적으로 코드를 작성, 편집 및 실행할 수 있다. \\'코딩 AI 에이전트\\' 수준으로 활용할 수 있다는 설명이다.\\xa0\\n모델과 함께 \\'아티팩트(Artifacts)\\'라는 기능도 선보였다. 아티팩트를 통해 클로드가 생성한 결과물을 사용자가 실시간으로 확인하면서 편집, 구축할 수 있다. 웹에서 클로드가 생성한 콘텐츠를 프로젝트와 작업 절차에 원활하게 통합할 수 있도록 지원하는 일종의 작업 공간이다.\\xa0\\n예를 들어, 클로드가 이메일을 작성해 주면, 아티팩트를 통해 확인하고 해당 이메일을 텍스트 편집기로 복사하지 않고 클로드 앱 내에서 직접 수정할 수 있다. 또 클로드가 코드를 생성해 주면, 아티팩트에서 실행 결과를 확인하고 클로드 앱 내에서 직접 수정할 수 있다.\\n\\n\\n클로드 3.5 소네트의 비전 기능 (영상=앤트로픽)\\n\\n클로드 3.5 소네트는 이미지 인식 능력을 갖춘 멀티모달 모델이다. 이미지 인식 능력을 평가하는 표준 비전 벤치마크에서도 전 세대 모델 \\'클로드 3 오퍼스\\'를 능가했다.\\xa0\\n앤트로픽은 “불완전한 이미지에서 텍스트를 정확하게 전사(transcription)할 수 있다”라며 “텍스트보다 이미지, 그래픽, 일러스트레이션에서 더 많은 정보를 얻을 수 있는 소매, 물류, 금융 서비스의 핵심 기능”이라고 했다.\\xa0\\n안전성도 강조했다. “영국 인공 지능 안전 연구소(UK AISI)에 모델을 제출, 테스트를 완료했으며\\xa0미국 인공지능 안전 연구소(US AISI)와도 결과를 공유했다”라고 밝혔다.\\n또 “개인정보 보호는 가장 중요한 원칙 중 하나다. 사용자가 명시적으로 허용하지 않는 한 사용자가 제출한 데이터로 모델을 학습하지 않는다”라고 전했다.\\n\\n\\n벤치마크 결과 (사진=앤트로픽)\\n\\n\\n벤치마크 8개 중 7개, 비전 벤치마크 5개 중 4개 분야에서 \\'GPT-4o\\'나 \\'제미나이 1.5 프로\\', \\'라마 3 400B\\' 등 첨단 모델을 능가했다.\\xa0\\n대학원 수준의 추론 능력(GPQA)는 59.4%로 GPT-4o(53.6%)를 크게 앞섰고, 코딩 능력(HumanEval) 역시 92.0%로 GPT-4o(\\xa090.2%) 대비 1.8%포인트 높았다. 또\\xa0클로드 3.5 소네트는 중간 크기의 모델이지만, 전 세대 최고 모델인 클로드 3 오퍼스의 성능을 모두 앞질렀다.\\xa0\\n멀티모달 과제 수행에서도 차트 이해도와 문서 이해도 부문에서 각각 90.80%, 95.2%의 점수를 받아, 85.7%, 92.8%를 기록한 GPT-4o를 앞섰다.\\n다니엘라 아모데이 앤트로픽 공동 창립자는 “클로드 3.5 소네트은 현재 시장에서 가장 지능적하며, 저렴한 모델”라고 강조했다.\\n한편, 이미지 생성 기능은 제외했다. 이는 \"비즈니스를 위한 제품을 만드는 것이 핵심으로, 매력적이지만 기업에게 별 필요가 없는 기능은 우선 순위에서 제외했다\"라는 설명이다.\\n박찬 기자 cpark@aitimes.com\\n\\n\\n\\n\\n\\n\\n\\n\\n\\n\\n\\n\\n키워드 관련기사\\n\\n\\n\\n\\n\\n\\n\\n앤트로픽, 개발자용 앱 개발 도구 \\'툴 유스\\' 출시\\n\\n\\n\\n\\n\\n\\n\\n앤트로픽, \\'클로드 3\\' 유럽 전역 배포 개시...오픈AI·미스트랄과 경쟁\\n\\n\\n\\n\\n\\n\\n\\n앤트로픽, iOS용 클로드 모바일 앱 출시...기업용 서비스도 추가\\n\\n\\n\\n\\n\\n\\n\\nCopyright © \\'인공지능 전문미디어\\' AI타임스 (http://www.aitimes.com)무단전재 및 재배포 금지기사제보 및 보도자료 news@aitimes.com\\n\\n키워드\\nTags\\n#앤트로픽\\n#클로드 3.5 소네트\\n#클로드 3.5 오퍼스\\n#클로드 3.5 하이쿠\\n#클로드 3 오퍼스\\n#아티팩트\\n#벤치마크\\n#GPT-4o\\n#인공지능\\n#AI\\n\\n\\n\\n\\n\\n\\n박찬 기자\\n\\ncpark@aitimes.com\\n\\n\\n\\n\\n다른기사 보기 \\n\\n\\n\\nSNS 기사보내기\\n\\n페이스북(으)로 기사보내기\\n\\n\\n트위터(으)로 기사보내기\\n\\n\\n카카오톡(으)로 기사보내기\\n\\nAI타임스 블로그\\nAI타임스 유튜브\\n\\n\\n\\n\\n\\n\\n\\n\\n\\n\\n\\n\\n\\n\\n\\n\\n \\n\\n\\n\\n\\n\\n\\n\\n\\n\\n\\n\\n\\n\\n\\n\\n\\n\\n\\n\\n\\n\\n\\n\\n\\n\\n댓글삭제\\n\\n\\t\\t\\t삭제한 댓글은 다시 복구할 수 없습니다.\\n\\t\\t\\t그래도 삭제하시겠습니까?\\n\\t\\t\\n\\n\\n\\n\\n\\n\\n\\n\\n\\n\\n\\n\\n\\n비밀번호\\n\\n\\n\\n\\n\\n\\n\\n\\xa0삭제\\n\\n\\n\\n\\n\\n닫기\\n\\n\\n\\n\\n\\n\\n\\n\\n기사 댓글\\n1 \\n댓글 접기\\n\\n\\n\\n\\n\\n로그인 후 이용 가능합니다.\\n\\n\\n\\n댓글 내용입력\\n\\n\\n0 / 400\\n\\n\\n\\n\\n\\n\\n\\n\\n\\n\\n\\n\\n\\n\\n\\n\\n\\xa0 \\n\\n비회원 로그인\\n\\n이름\\n\\n\\n\\n비밀번호\\n\\n\\n\\n\\n\\n\\n댓글 내용입력\\n\\n\\n0 / 400\\n\\xa0등록\\n\\n\\n\\n\\n\\n\\n\\n\\n\\n\\n댓글쓰기\\n\\n\\t\\t\\t\\t계정을 선택하시면 로그인·계정인증을 통해 댓글을 남기실 수 있습니다.\\n\\t\\t\\t\\n\\n\\n\\n\\n회원 로그인\\n비회원 글쓰기\\n\\n\\n\\n\\n\\n이름\\n\\n\\n\\n\\n\\n\\n\\n\\n\\n비밀번호\\n\\n\\n\\n\\n\\n\\n\\n\\n\\n자동등록방지\\n\\n\\n\\n\\n\\n\\n\\n\\n\\n\\n\\n\\n\\n\\n\\n\\xa0확인\\n\\xa0취소\\n\\n\\n\\n\\n\\n\\n\\n로그인 옵션 창닫기\\n\\n\\n\\n\\n\\n\\n\\n\\n댓글목록\\n 최신순\\n 추천순\\n\\xa0욕설, 타인비방 등의 게시물은 예고 없이 삭제 될 수 있습니다.\\n\\n\\n\\n\\n\\n\\nㅇㅇ\\n2024-06-27 09:30:56\\n\\n\\n더보기\\n\\n\\n\\xa0삭제하기\\n\\n\\n\\n\\n크 치열하다 치열해\\n\\n\\n\\t\\t\\t\\t답글쓰기\\n\\t\\t\\t\\t\\t\\t\\n\\n\\xa00\\n\\xa01\\n\\n\\n\\n\\n\\n\\n\\n\\n\\n\\n\\n\\n\\n\\n\\n\\n\\n\\n\\n\\n\\n\\n\\n\\n\\n많이 본 기사\\n\\n\\n\\n1\\n알트먼, 새 모델 \\'스트로베리\\' 티징...\"GPT-5 출시 임박\"\\n\\n\\n\\n\\n2\\n구글 \"기업 86% 생성 AI를 활용해 6% 매출 성장\"\\n\\n\\n\\n\\n3\\n구글, \"최초로 인간 수준 실력 갖춘\" 탁구 로봇 팔 공개\\n\\n\\n\\n\\n4\\n저커버그 \"10년 전 인수 협상한 딥마인드, 나를 베팅용 카드로 활용\"\\n\\n\\n\\n\\n5\\n오픈AI, 챗GPT 무료 사용자도 \\'달리\\' 이미지 생성 허용\\n\\n\\n\\n\\n6\\n알리바바, 수학 전용 모델 \\'큐원2-매스\\' 오픈 소스 출시\\n\\n\\n\\n\\n7\\n\"애플, 일부 AI 기능 월 20달러 유료화할 수 있어\"\\n\\n\\n\\n\\n8\\n[8월2주] 나이 한살 늘수록 사용 확률 1% 감소...\\'챗GPT\\' 얼마나 사용할까\\n\\n\\n\\n\\n9\\n맨유 유니폼 앞면은 \\'스냅드래곤\\'·뒷면은 \\'코파일럿+ PC\\'\\n\\n\\n\\n\\n10\\n제이슨 권 오픈AI CSO, 서울 \\'AI 거버넌스\\' 참여\\n\\n\\n\\n \\n\\n\\n포토/영상\\n\\n\\n\\n\\n피규어, 새로운 휴머노이드 로봇 티저 공개...\"세계에서 가장 진보한 로봇\"\\n\\n\\n\\n\\n말·말·말\\n\\n\\n저커버그 \"오픈AI라는 이름으로 폐쇄형 AI 모델을 선도한다는 것은 우스꽝스러운 일\"\\n\\n\\n\\'칩 레전드\\' 짐 켈러 \"엔비디아가 신경 쓰지 못하는 시장이 있다. 엣지 AI가 대표적\"\\n\\n\\n\"누군가 GPU 120만개짜리 슈퍼컴퓨터 구축 요청해\"\\n\\n\\n \\n\\n\\n\\n\\n\\n\\n\\n\\n\\n\\n\\n\\n\\n\\n\\n\\n\\n\\n\\n\\n하단메뉴\\n매체소개\\n기사제보\\n광고문의\\n이용약관\\n개인정보처리방침\\n청소년보호정책\\n저작권보호정책\\n이메일무단수집거부\\n\\n\\n\\n\\n\\n\\n\\n서울특별시 영등포구 당산로41길 11 (당산 SK V1 센터) 431호\\n대표전화 : 02-2655-2663\\n팩스 : 02-2655-2664\\n청소년보호책임자 : 전동희\\n제호 : AI타임스\\n등록번호 : 서울 아 04551\\n등록일 : 2017-06-01\\n발행일 : 2017-06-01\\n발행인 : 박상용\\n편집인 : 전동희\\nAI타임스 (http://www.aitimes.com)의  모든 콘텐츠는 저작권법의 보호를 받는 바, 무단 전재와 복사, 배포 등을 금합니다.\\nCopyright © 2024 AI타임스. All rights reserved.\\n\\n\\n\\n\\n\\n\\n\\n\\n\\n\\n\\n\\n\\n\\n\\n\\n\\n\\n\\n위로 \\n\\n\\n\\r\\n\\t\\t\\tArray\\n(\\n    [0] => Array\\n        (\\n            [data] => Array\\n                (\\n                    [0] => 정책\\n                    [1] => S1N1\\n                    [2] => \\n                    [3] => \\n                    [4] => N\\n                    [5] => \\n                )\\n\\n        )\\n\\n    [1] => Array\\n        (\\n            [data] => Array\\n                (\\n                    [0] => 산업\\n                    [1] => S1N3\\n                    [2] => \\n                    [3] => \\n                    [4] => N\\n                    [5] => \\n                )\\n\\n            [child] => Array\\n                (\\n                    [0] => Array\\n                        (\\n                            [data] => Array\\n                                (\\n                                    [0] => S1N3\\n                                    [1] => 산업일반\\n                                    [2] => S2N48\\n                                    [3] => \\n                                    [4] => N\\n                                    [5] => \\n                                )\\n\\n                        )\\n\\n                    [1] => Array\\n                        (\\n                            [data] => Array\\n                                (\\n                                    [0] => S1N3\\n                                    [1] => 메타버스\\n                                    [2] => S2N50\\n                                    [3] => \\n                                    [4] => N\\n                                    [5] => \\n                                )\\n\\n                        )\\n\\n                    [2] => Array\\n                        (\\n                            [data] => Array\\n                                (\\n                                    [0] => S1N3\\n                                    [1] => AI 기업\\n                                    [2] => S2N51\\n                                    [3] => \\n                                    [4] => N\\n                                    [5] => \\n                                )\\n\\n                        )\\n\\n                    [3] => Array\\n                        (\\n                            [data] => Array\\n                                (\\n                                    [0] => S1N3\\n                                    [1] => 말·말·말\\n                                    [2] => S2N101\\n                                    [3] => \\n                                    [4] => N\\n                                    [5] => \\n                                )\\n\\n                        )\\n\\n                    [4] => Array\\n                        (\\n                            [data] => Array\\n                                (\\n                                    [0] => S1N3\\n                                    [1] => English News\\n                                    [2] => S2N102\\n                                    [3] => \\n                                    [4] => N\\n                                    [5] => \\n                                )\\n\\n                        )\\n\\n                    [5] => Array\\n                        (\\n                            [data] => Array\\n                                (\\n                                    [0] => S1N3\\n                                    [1] => 인터뷰\\n                                    [2] => S2N109\\n                                    [3] => \\n                                    [4] => N\\n                                    [5] => \\n                                )\\n\\n                        )\\n\\n                    [6] => Array\\n                        (\\n                            [data] => Array\\n                                (\\n                                    [0] => S1N3\\n                                    [1] => 클릭 AI\\n                                    [2] => S2N115\\n                                    [3] => \\n                                    [4] => N\\n                                    [5] => \\n                                )\\n\\n                        )\\n\\n                )\\n\\n        )\\n\\n    [2] => Array\\n        (\\n            [data] => Array\\n                (\\n                    [0] => 기술\\n                    [1] => S1N24\\n                    [2] => \\n                    [3] => \\n                    [4] => N\\n                    [5] => \\n                )\\n\\n            [child] => Array\\n                (\\n                    [0] => Array\\n                        (\\n                            [data] => Array\\n                                (\\n                                    [0] => S1N24\\n                                    [1] => 뉴테크\\n                                    [2] => S2N103\\n                                    [3] => \\n                                    [4] => N\\n                                    [5] => \\n                                )\\n\\n                        )\\n\\n                )\\n\\n        )\\n\\n    [3] => Array\\n        (\\n            [data] => Array\\n                (\\n                    [0] => Art & Living\\n                    [1] => S1N25\\n                    [2] => \\n                    [3] => \\n                    [4] => N\\n                    [5] => \\n                )\\n\\n            [child] => Array\\n                (\\n                    [0] => Array\\n                        (\\n                            [data] => Array\\n                                (\\n                                    [0] => S1N25\\n                                    [1] => Art\\n                                    [2] => S2N56\\n                                    [3] => \\n                                    [4] => N\\n                                    [5] => \\n                                )\\n\\n                        )\\n\\n                    [1] => Array\\n                        (\\n                            [data] => Array\\n                                (\\n                                    [0] => S1N25\\n                                    [1] => Living\\n                                    [2] => S2N55\\n                                    [3] => \\n                                    [4] => N\\n                                    [5] => \\n                                )\\n\\n                        )\\n\\n                )\\n\\n        )\\n\\n    [4] => Array\\n        (\\n            [data] => Array\\n                (\\n                    [0] => 교육\\n                    [1] => S1N26\\n                    [2] => \\n                    [3] => \\n                    [4] => N\\n                    [5] => \\n                )\\n\\n            [child] => Array\\n                (\\n                    [0] => Array\\n                        (\\n                            [data] => Array\\n                                (\\n                                    [0] => S1N26\\n                                    [1] => AI 교육\\n                                    [2] => S2N58\\n                                    [3] => \\n                                    [4] => N\\n                                    [5] => \\n                                )\\n\\n                        )\\n\\n                    [1] => Array\\n                        (\\n                            [data] => Array\\n                                (\\n                                    [0] => S1N26\\n                                    [1] => AI대학원\\n                                    [2] => S2N59\\n                                    [3] => \\n                                    [4] => N\\n                                    [5] => \\n                                )\\n\\n                        )\\n\\n                    [2] => Array\\n                        (\\n                            [data] => Array\\n                                (\\n                                    [0] => S1N26\\n                                    [1] => AI융합연구센터\\n                                    [2] => S2N60\\n                                    [3] => \\n                                    [4] => N\\n                                    [5] => \\n                                )\\n\\n                        )\\n\\n                )\\n\\n        )\\n\\n    [5] => Array\\n        (\\n            [data] => Array\\n                (\\n                    [0] => 인물\\n                    [1] => S1N27\\n                    [2] => \\n                    [3] => \\n                    [4] => N\\n                    [5] => \\n                )\\n\\n            [child] => Array\\n                (\\n                    [0] => Array\\n                        (\\n                            [data] => Array\\n                                (\\n                                    [0] => S1N27\\n                                    [1] => AI초대석\\n                                    [2] => S2N61\\n                                    [3] => \\n                                    [4] => N\\n                                    [5] => \\n                                )\\n\\n                        )\\n\\n                    [1] => Array\\n                        (\\n                            [data] => Array\\n                                (\\n                                    [0] => S1N27\\n                                    [1] => 글로벌LAB 젊은 과학자\\n                                    [2] => S2N62\\n                                    [3] => \\n                                    [4] => N\\n                                    [5] => \\n                                )\\n\\n                        )\\n\\n                    [2] => Array\\n                        (\\n                            [data] => Array\\n                                (\\n                                    [0] => S1N27\\n                                    [1] => 동정\\n                                    [2] => S2N63\\n                                    [3] => \\n                                    [4] => N\\n                                    [5] => \\n                                )\\n\\n                        )\\n\\n                    [3] => Array\\n                        (\\n                            [data] => Array\\n                                (\\n                                    [0] => S1N27\\n                                    [1] => 인사/부음\\n                                    [2] => S2N64\\n                                    [3] => \\n                                    [4] => N\\n                                    [5] => \\n                                )\\n\\n                        )\\n\\n                )\\n\\n        )\\n\\n    [6] => Array\\n        (\\n            [data] => Array\\n                (\\n                    [0] => 오피니언\\n                    [1] => S1N28\\n                    [2] => \\n                    [3] => \\n                    [4] => N\\n                    [5] => \\n                )\\n\\n            [child] => Array\\n                (\\n                    [0] => Array\\n                        (\\n                            [data] => Array\\n                                (\\n                                    [0] => S1N28\\n                                    [1] => 칼럼\\n                                    [2] => S2N65\\n                                    [3] => \\n                                    [4] => N\\n                                    [5] => \\n                                )\\n\\n                        )\\n\\n                    [1] => Array\\n                        (\\n                            [data] => Array\\n                                (\\n                                    [0] => S1N28\\n                                    [1] => 기고\\n                                    [2] => S2N66\\n                                    [3] => \\n                                    [4] => N\\n                                    [5] => \\n                                )\\n\\n                        )\\n\\n                    [2] => Array\\n                        (\\n                            [data] => Array\\n                                (\\n                                    [0] => S1N28\\n                                    [1] => 기자수첩\\n                                    [2] => S2N67\\n                                    [3] => \\n                                    [4] => N\\n                                    [5] => \\n                                )\\n\\n                        )\\n\\n                    [3] => Array\\n                        (\\n                            [data] => Array\\n                                (\\n                                    [0] => S1N28\\n                                    [1] => 박정현의 데이터사이언스\\n                                    [2] => S2N68\\n                                    [3] => \\n                                    [4] => N\\n                                    [5] => \\n                                )\\n\\n                        )\\n\\n                    [4] => Array\\n                        (\\n                            [data] => Array\\n                                (\\n                                    [0] => S1N28\\n                                    [1] => 조금원의 디지털 세상 이야기\\n                                    [2] => S2N69\\n                                    [3] => \\n                                    [4] => N\\n                                    [5] => \\n                                )\\n\\n                        )\\n\\n                    [5] => Array\\n                        (\\n                            [data] => Array\\n                                (\\n                                    [0] => S1N28\\n                                    [1] => 조영임의 AI단상\\n                                    [2] => S2N70\\n                                    [3] => \\n                                    [4] => N\\n                                    [5] => \\n                                )\\n\\n                        )\\n\\n                    [6] => Array\\n                        (\\n                            [data] => Array\\n                                (\\n                                    [0] => S1N28\\n                                    [1] => 옴부즈만\\n                                    [2] => S2N96\\n                                    [3] => \\n                                    [4] => N\\n                                    [5] => \\n                                )\\n\\n                        )\\n\\n                )\\n\\n        )\\n\\n    [7] => Array\\n        (\\n            [data] => Array\\n                (\\n                    [0] => 포커스\\n                    [1] => S1N32\\n                    [2] => \\n                    [3] => \\n                    [4] => N\\n                    [5] => \\n                )\\n\\n            [child] => Array\\n                (\\n                    [0] => Array\\n                        (\\n                            [data] => Array\\n                                (\\n                                    [0] => S1N32\\n                                    [1] => AI만평\\n                                    [2] => S2N90\\n                                    [3] => \\n                                    [4] => N\\n                                    [5] => \\n                                )\\n\\n                        )\\n\\n                    [1] => Array\\n                        (\\n                            [data] => Array\\n                                (\\n                                    [0] => S1N32\\n                                    [1] => 포토/영상\\n                                    [2] => S2N98\\n                                    [3] => \\n                                    [4] => N\\n                                    [5] => \\n                                )\\n\\n                        )\\n\\n                    [2] => Array\\n                        (\\n                            [data] => Array\\n                                (\\n                                    [0] => S1N32\\n                                    [1] => 그래픽\\n                                    [2] => S2N92\\n                                    [3] => \\n                                    [4] => N\\n                                    [5] => \\n                                )\\n\\n                        )\\n\\n                    [3] => Array\\n                        (\\n                            [data] => Array\\n                                (\\n                                    [0] => S1N32\\n                                    [1] => 영상\\n                                    [2] => S2N94\\n                                    [3] => \\n                                    [4] => N\\n                                    [5] => \\n                                )\\n\\n                        )\\n\\n                    [4] => Array\\n                        (\\n                            [data] => Array\\n                                (\\n                                    [0] => S1N32\\n                                    [1] => 리스티클\\n                                    [2] => S2N93\\n                                    [3] => \\n                                    [4] => N\\n                                    [5] => \\n                                )\\n\\n                        )\\n\\n                    [5] => Array\\n                        (\\n                            [data] => Array\\n                                (\\n                                    [0] => S1N32\\n                                    [1] => 왔다!AI\\n                                    [2] => S2N104\\n                                    [3] => \\n                                    [4] => N\\n                                    [5] => \\n                                )\\n\\n                        )\\n\\n                    [6] => Array\\n                        (\\n                            [data] => Array\\n                                (\\n                                    [0] => S1N32\\n                                    [1] => Chat with AI\\n                                    [2] => S2N106\\n                                    [3] => \\n                                    [4] => N\\n                                    [5] => \\n                                )\\n\\n                        )\\n\\n                    [7] => Array\\n                        (\\n                            [data] => Array\\n                                (\\n                                    [0] => S1N32\\n                                    [1] => 오픈-Ko LLM 리더보드\\n                                    [2] => S2N107\\n                                    [3] => \\n                                    [4] => N\\n                                    [5] => \\n                                )\\n\\n                        )\\n\\n                    [8] => Array\\n                        (\\n                            [data] => Array\\n                                (\\n                                    [0] => S1N32\\n                                    [1] => AI주크박스\\n                                    [2] => S2N108\\n                                    [3] => \\n                                    [4] => N\\n                                    [5] => \\n                                )\\n\\n                        )\\n\\n                    [9] => Array\\n                        (\\n                            [data] => Array\\n                                (\\n                                    [0] => S1N32\\n                                    [1] => 뉴스 브리핑\\n                                    [2] => S2N110\\n                                    [3] => \\n                                    [4] => N\\n                                    [5] => \\n                                )\\n\\n                        )\\n\\n                    [10] => Array\\n                        (\\n                            [data] => Array\\n                                (\\n                                    [0] => S1N32\\n                                    [1] => 체험기\\n                                    [2] => S2N111\\n                                    [3] => \\n                                    [4] => N\\n                                    [5] => \\n                                )\\n\\n                        )\\n\\n                    [11] => Array\\n                        (\\n                            [data] => Array\\n                                (\\n                                    [0] => S1N32\\n                                    [1] => AI갤러리\\n                                    [2] => S2N112\\n                                    [3] => \\n                                    [4] => N\\n                                    [5] => \\n                                )\\n\\n                        )\\n\\n                    [12] => Array\\n                        (\\n                            [data] => Array\\n                                (\\n                                    [0] => S1N32\\n                                    [1] => AI무비\\n                                    [2] => S2N113\\n                                    [3] => \\n                                    [4] => N\\n                                    [5] => \\n                                )\\n\\n                        )\\n\\n                    [13] => Array\\n                        (\\n                            [data] => Array\\n                                (\\n                                    [0] => S1N32\\n                                    [1] => AI & 푸드\\n                                    [2] => S2N114\\n                                    [3] => \\n                                    [4] => N\\n                                    [5] => \\n                                )\\n\\n                        )\\n\\n                )\\n\\n        )\\n\\n    [8] => Array\\n        (\\n            [data] => Array\\n                (\\n                    [0] => 이벤트\\n                    [1] => S1N29\\n                    [2] => \\n                    [3] => \\n                    [4] => N\\n                    [5] => \\n                )\\n\\n            [child] => Array\\n                (\\n                    [0] => Array\\n                        (\\n                            [data] => Array\\n                                (\\n                                    [0] => S1N29\\n                                    [1] => NVIDIA GTC\\n                                    [2] => S2N97\\n                                    [3] => \\n                                    [4] => N\\n                                    [5] => \\n                                )\\n\\n                        )\\n\\n                    [1] => Array\\n                        (\\n                            [data] => Array\\n                                (\\n                                    [0] => S1N29\\n                                    [1] => IFA\\n                                    [2] => S2N71\\n                                    [3] => \\n                                    [4] => N\\n                                    [5] => \\n                                )\\n\\n                        )\\n\\n                    [2] => Array\\n                        (\\n                            [data] => Array\\n                                (\\n                                    [0] => S1N29\\n                                    [1] => CES\\n                                    [2] => S2N72\\n                                    [3] => \\n                                    [4] => N\\n                                    [5] => \\n                                )\\n\\n                        )\\n\\n                    [3] => Array\\n                        (\\n                            [data] => Array\\n                                (\\n                                    [0] => S1N29\\n                                    [1] => CES 2023\\n                                    [2] => S2N99\\n                                    [3] => \\n                                    [4] => N\\n                                    [5] => \\n                                )\\n\\n                        )\\n\\n                    [4] => Array\\n                        (\\n                            [data] => Array\\n                                (\\n                                    [0] => S1N29\\n                                    [1] => AI & BIG DATA SHOW\\n                                    [2] => S2N105\\n                                    [3] => \\n                                    [4] => N\\n                                    [5] => \\n                                )\\n\\n                        )\\n\\n                )\\n\\n        )\\n\\n    [9] => Array\\n        (\\n            [data] => Array\\n                (\\n                    [0] => 스페셜 리포트\\n                    [1] => S1N30\\n                    [2] => \\n                    [3] => \\n                    [4] => N\\n                    [5] => \\n                )\\n\\n            [child] => Array\\n                (\\n                    [0] => Array\\n                        (\\n                            [data] => Array\\n                                (\\n                                    [0] => S1N30\\n                                    [1] => 찬이의 IT교실\\n                                    [2] => S2N74\\n                                    [3] => \\n                                    [4] => N\\n                                    [5] => \\n                                )\\n\\n                        )\\n\\n                    [1] => Array\\n                        (\\n                            [data] => Array\\n                                (\\n                                    [0] => S1N30\\n                                    [1] => 칼럼이 있는 AI 톡\\n                                    [2] => S2N75\\n                                    [3] => \\n                                    [4] => N\\n                                    [5] => \\n                                )\\n\\n                        )\\n\\n                    [2] => Array\\n                        (\\n                            [data] => Array\\n                                (\\n                                    [0] => S1N30\\n                                    [1] => 일상으로 파고드는 AI기술\\n                                    [2] => S2N76\\n                                    [3] => \\n                                    [4] => N\\n                                    [5] => \\n                                )\\n\\n                        )\\n\\n                    [3] => Array\\n                        (\\n                            [data] => Array\\n                                (\\n                                    [0] => S1N30\\n                                    [1] => AI와 클라우드\\n                                    [2] => S2N77\\n                                    [3] => \\n                                    [4] => N\\n                                    [5] => \\n                                )\\n\\n                        )\\n\\n                    [4] => Array\\n                        (\\n                            [data] => Array\\n                                (\\n                                    [0] => S1N30\\n                                    [1] => 스포츠, AI를 만나다\\n                                    [2] => S2N78\\n                                    [3] => \\n                                    [4] => N\\n                                    [5] => \\n                                )\\n\\n                        )\\n\\n                    [5] => Array\\n                        (\\n                            [data] => Array\\n                                (\\n                                    [0] => S1N30\\n                                    [1] => 춤추는 AI개발자 연봉\\n                                    [2] => S2N79\\n                                    [3] => \\n                                    [4] => N\\n                                    [5] => \\n                                )\\n\\n                        )\\n\\n                    [6] => Array\\n                        (\\n                            [data] => Array\\n                                (\\n                                    [0] => S1N30\\n                                    [1] => 로봇이 온다\\n                                    [2] => S2N80\\n                                    [3] => \\n                                    [4] => N\\n                                    [5] => \\n                                )\\n\\n                        )\\n\\n                    [7] => Array\\n                        (\\n                            [data] => Array\\n                                (\\n                                    [0] => S1N30\\n                                    [1] => 이미지와 비전 AI\\n                                    [2] => S2N81\\n                                    [3] => \\n                                    [4] => N\\n                                    [5] => \\n                                )\\n\\n                        )\\n\\n                    [8] => Array\\n                        (\\n                            [data] => Array\\n                                (\\n                                    [0] => S1N30\\n                                    [1] => 블록체인 쿼바디스?\\n                                    [2] => S2N82\\n                                    [3] => \\n                                    [4] => N\\n                                    [5] => \\n                                )\\n\\n                        )\\n\\n                    [9] => Array\\n                        (\\n                            [data] => Array\\n                                (\\n                                    [0] => S1N30\\n                                    [1] => 코로나와 AI\\n                                    [2] => S2N83\\n                                    [3] => \\n                                    [4] => N\\n                                    [5] => \\n                                )\\n\\n                        )\\n\\n                    [10] => Array\\n                        (\\n                            [data] => Array\\n                                (\\n                                    [0] => S1N30\\n                                    [1] => 광주의 AI교육\\n                                    [2] => S2N84\\n                                    [3] => \\n                                    [4] => N\\n                                    [5] => \\n                                )\\n\\n                        )\\n\\n                    [11] => Array\\n                        (\\n                            [data] => Array\\n                                (\\n                                    [0] => S1N30\\n                                    [1] => AI 저널리즘을 부탁해\\n                                    [2] => S2N85\\n                                    [3] => \\n                                    [4] => N\\n                                    [5] => \\n                                )\\n\\n                        )\\n\\n                    [12] => Array\\n                        (\\n                            [data] => Array\\n                                (\\n                                    [0] => S1N30\\n                                    [1] => 자율주행차 사고 어떻게 볼 것인가\\n                                    [2] => S2N86\\n                                    [3] => \\n                                    [4] => N\\n                                    [5] => \\n                                )\\n\\n                        )\\n\\n                    [13] => Array\\n                        (\\n                            [data] => Array\\n                                (\\n                                    [0] => S1N30\\n                                    [1] => 김미정의 로빌리티 뿌뿌\\n                                    [2] => S2N95\\n                                    [3] => \\n                                    [4] => N\\n                                    [5] => \\n                                )\\n\\n                        )\\n\\n                )\\n\\n        )\\n\\n    [10] => Array\\n        (\\n            [data] => Array\\n                (\\n                    [0] => Global\\n                    [1] => S1N13\\n                    [2] => \\n                    [3] => \\n                    [4] => N\\n                    [5] => \\n                )\\n\\n        )\\n\\n    [11] => Array\\n        (\\n            [data] => Array\\n                (\\n                    [0] => Feature\\n                    [1] => S1N35\\n                    [2] => \\n                    [3] => \\n                    [4] => N\\n                    [5] => \\n                )\\n\\n        )\\n\\n    [12] => Array\\n        (\\n            [data] => Array\\n                (\\n                    [0] => Future Energy\\n                    [1] => S1N34\\n                    [2] => \\n                    [3] => \\n                    [4] => N\\n                    [5] => \\n                )\\n\\n        )\\n\\n)\\n\\n\\n전체메뉴\\n\\n\\n전체기사\\n오피니언\\n\\nAI 대학원\\n\\n\\n2021\\n2020\\n해외대학\\n대학 NOW\\n\\n\\n\\n정책\\n\\n\\n산업\\n\\n전체\\n\\n산업일반 \\n\\n메타버스 \\n\\nAI 기업 \\n\\n말·말·말 \\n\\nEnglish News \\n\\n인터뷰 \\n\\n클릭 AI \\n\\n\\n\\n기술\\n\\n전체\\n\\n뉴테크 \\n\\n\\n\\nArt & Living\\n\\n전체\\n\\nArt \\n\\nLiving \\n\\n\\n\\n교육\\n\\n전체\\n\\nAI 교육 \\n\\nAI대학원 \\n\\nAI융합연구센터 \\n\\n\\n\\n인물\\n\\n전체\\n\\nAI초대석 \\n\\n글로벌LAB 젊은 과학자 \\n\\n동정 \\n\\n인사/부음 \\n\\n\\n\\n오피니언\\n\\n전체\\n\\n칼럼 \\n\\n기고 \\n\\n기자수첩 \\n\\n박정현의 데이터사이언스 \\n\\n조금원의 디지털 세상 이야기 \\n\\n조영임의 AI단상 \\n\\n옴부즈만 \\n\\n\\n\\n포커스\\n\\n전체\\n\\nAI만평 \\n\\n포토/영상 \\n\\n그래픽 \\n\\n영상 \\n\\n리스티클 \\n\\n왔다!AI \\n\\nChat with AI \\n\\n오픈-Ko LLM 리더보드 \\n\\nAI주크박스 \\n\\n뉴스 브리핑 \\n\\n체험기 \\n\\nAI갤러리 \\n\\nAI무비 \\n\\nAI & 푸드 \\n\\n\\n\\n이벤트\\n\\n전체\\n\\nNVIDIA GTC \\n\\nIFA \\n\\nCES \\n\\nCES 2023 \\n\\nAI & BIG DATA SHOW \\n\\n\\n\\n스페셜 리포트\\n\\n전체\\n\\n찬이의 IT교실 \\n\\n칼럼이 있는 AI 톡 \\n\\n일상으로 파고드는 AI기술 \\n\\nAI와 클라우드 \\n\\n스포츠, AI를 만나다 \\n\\n춤추는 AI개발자 연봉 \\n\\n로봇이 온다 \\n\\n이미지와 비전 AI \\n\\n블록체인 쿼바디스? \\n\\n코로나와 AI \\n\\n광주의 AI교육 \\n\\nAI 저널리즘을 부탁해 \\n\\n자율주행차 사고 어떻게 볼 것인가 \\n\\n김미정의 로빌리티 뿌뿌 \\n\\n\\n\\nGlobal\\n\\n\\nFeature\\n\\n\\nFuture Energy\\n\\n\\n\\n\\n전체메뉴닫기\\n\\n\\n\\n\\n\\n\\n\\n\\n\\n\\n\\n\\n\\n\\n\\n\\n')"
      ]
     },
     "execution_count": 25,
     "metadata": {},
     "output_type": "execute_result"
    }
   ],
   "source": [
    "from langchain_community.document_loaders import WebBaseLoader\n",
    "\n",
    "loder = WebBaseLoader(url)\n",
    "\n",
    "docs = loder.load()\n",
    "\n",
    "docs[0]"
   ]
  },
  {
   "cell_type": "markdown",
   "metadata": {},
   "source": [
    "2. 가장 긴 텍스트 찾기 (본문 찾기)"
   ]
  },
  {
   "cell_type": "code",
   "execution_count": 26,
   "metadata": {},
   "outputs": [
    {
     "name": "stdout",
     "output_type": "stream",
     "text": [
      "가장 긴 텍스트:\n",
      " 대학원 수준의 추론 능력(GPQA)는 59.4%로 GPT-4o(53.6%)를 크게 앞섰고, 코딩 능력(HumanEval) 역시 92.0%로 GPT-4o( 90.2%) 대비 1.8%포인트 높았다. 또 클로드 3.5 소네트는 중간 크기의 모델이지만, 전 세대 최고 모델인 클로드 3 오퍼스의 성능을 모두 앞질렀다. \n"
     ]
    }
   ],
   "source": [
    "# extract : 추출, 뽑다\n",
    "def extract_longest_text(text):\n",
    "    # split은 python의 내장함수\n",
    "    segments = text.split('\\n')\n",
    "    # max()는 python의 내장함수\n",
    "    # max()는 '가장~'한 값을 추출. 'key=len'을 작성함으로써 가장 길이가 긴 문자열을 추출\n",
    "    longest_segment= max(segments, key=len)\n",
    "    return longest_segment\n",
    "\n",
    "text = docs[0].page_content\n",
    "\n",
    "longest_text = extract_longest_text(text)\n",
    "print('가장 긴 텍스트:\\n', longest_text)"
   ]
  },
  {
   "cell_type": "markdown",
   "metadata": {},
   "source": [
    "3. 반복문 활용해서 최대 100페이지 내용 분류"
   ]
  },
  {
   "cell_type": "code",
   "execution_count": 27,
   "metadata": {},
   "outputs": [
    {
     "name": "stderr",
     "output_type": "stream",
     "text": [
      "100%|██████████| 97/97 [00:32<00:00,  2.96it/s]"
     ]
    },
    {
     "name": "stdout",
     "output_type": "stream",
     "text": [
      "새로운 결과 개수: 97\n"
     ]
    },
    {
     "name": "stderr",
     "output_type": "stream",
     "text": [
      "\n"
     ]
    },
    {
     "data": {
      "text/plain": [
       "{'position': 1,\n",
       " 'title': \"앤트로픽, '클로드 3.5 소네트' 출시...'GPT-4o' 제치고 최강 모델 탈환\",\n",
       " 'source': {'name': 'AI타임스',\n",
       "  'icon': 'https://encrypted-tbn0.gstatic.com/faviconV2?url=https://www.aitimes.com&client=NEWS_360&size=96&type=FAVICON&fallback_opts=TYPE,SIZE,URL'},\n",
       " 'link': 'https://www.aitimes.com/news/articleView.html?idxno=160843',\n",
       " 'thumbnail': 'https://cdn.aitimes.com/news/thumbnail/202406/160843_173716_83_v150.jpg',\n",
       " 'date': '06/21/2024, 07:00 AM, +0000 UTC',\n",
       " 'content': '대학원 수준의 추론 능력(GPQA)는 59.4%로 GPT-4o(53.6%)를 크게 앞섰고, 코딩 능력(HumanEval) 역시 92.0%로 GPT-4o(\\xa090.2%) 대비 1.8%포인트 높았다. 또\\xa0클로드 3.5 소네트는 중간 크기의 모델이지만, 전 세대 최고 모델인 클로드 3 오퍼스의 성능을 모두 앞질렀다.\\xa0'}"
      ]
     },
     "execution_count": 27,
     "metadata": {},
     "output_type": "execute_result"
    }
   ],
   "source": [
    "from tqdm import tqdm\n",
    "\n",
    "new_results = []\n",
    "for result in tqdm(results):\n",
    "    try:\n",
    "        url = result['link']\n",
    "        loader = WebBaseLoader(url)\n",
    "        docs = loader.load()\n",
    "        text = docs[0].page_content\n",
    "        longest_text = extract_longest_text(text)\n",
    "        result[\"content\"] = longest_text\n",
    "        new_results.append(result)\n",
    "    except:\n",
    "        pass\n",
    "\n",
    "print(\"새로운 결과 개수:\", len(new_results))\n",
    "new_results[0]"
   ]
  },
  {
   "cell_type": "markdown",
   "metadata": {},
   "source": [
    "### 키 값을 데이터프레임으로 변환"
   ]
  },
  {
   "cell_type": "code",
   "execution_count": 28,
   "metadata": {},
   "outputs": [
    {
     "name": "stdout",
     "output_type": "stream",
     "text": [
      "Collecting pandas\n",
      "  Using cached pandas-2.2.2-cp312-cp312-win_amd64.whl.metadata (19 kB)\n",
      "Requirement already satisfied: numpy>=1.26.0 in c:\\users\\lofib\\downloads\\langchain_serpapi-main\\langchain_serpapi_env\\lib\\site-packages (from pandas) (1.26.4)\n",
      "Requirement already satisfied: python-dateutil>=2.8.2 in c:\\users\\lofib\\downloads\\langchain_serpapi-main\\langchain_serpapi_env\\lib\\site-packages (from pandas) (2.9.0.post0)\n",
      "Collecting pytz>=2020.1 (from pandas)\n",
      "  Using cached pytz-2024.1-py2.py3-none-any.whl.metadata (22 kB)\n",
      "Collecting tzdata>=2022.7 (from pandas)\n",
      "  Using cached tzdata-2024.1-py2.py3-none-any.whl.metadata (1.4 kB)\n",
      "Requirement already satisfied: six>=1.5 in c:\\users\\lofib\\downloads\\langchain_serpapi-main\\langchain_serpapi_env\\lib\\site-packages (from python-dateutil>=2.8.2->pandas) (1.16.0)\n",
      "Using cached pandas-2.2.2-cp312-cp312-win_amd64.whl (11.5 MB)\n",
      "Using cached pytz-2024.1-py2.py3-none-any.whl (505 kB)\n",
      "Using cached tzdata-2024.1-py2.py3-none-any.whl (345 kB)\n",
      "Installing collected packages: pytz, tzdata, pandas\n",
      "Successfully installed pandas-2.2.2 pytz-2024.1 tzdata-2024.1\n",
      "Note: you may need to restart the kernel to use updated packages.\n"
     ]
    },
    {
     "name": "stderr",
     "output_type": "stream",
     "text": [
      "\n",
      "[notice] A new release of pip is available: 24.0 -> 24.2\n",
      "[notice] To update, run: python.exe -m pip install --upgrade pip\n"
     ]
    }
   ],
   "source": [
    "pip install pandas"
   ]
  },
  {
   "cell_type": "code",
   "execution_count": 29,
   "metadata": {},
   "outputs": [
    {
     "data": {
      "text/html": [
       "<div>\n",
       "<style scoped>\n",
       "    .dataframe tbody tr th:only-of-type {\n",
       "        vertical-align: middle;\n",
       "    }\n",
       "\n",
       "    .dataframe tbody tr th {\n",
       "        vertical-align: top;\n",
       "    }\n",
       "\n",
       "    .dataframe thead th {\n",
       "        text-align: right;\n",
       "    }\n",
       "</style>\n",
       "<table border=\"1\" class=\"dataframe\">\n",
       "  <thead>\n",
       "    <tr style=\"text-align: right;\">\n",
       "      <th></th>\n",
       "      <th>position</th>\n",
       "      <th>title</th>\n",
       "      <th>source</th>\n",
       "      <th>link</th>\n",
       "      <th>thumbnail</th>\n",
       "      <th>date</th>\n",
       "      <th>content</th>\n",
       "    </tr>\n",
       "  </thead>\n",
       "  <tbody>\n",
       "    <tr>\n",
       "      <th>0</th>\n",
       "      <td>1</td>\n",
       "      <td>앤트로픽, '클로드 3.5 소네트' 출시...'GPT-4o' 제치고 최강 모델 탈환</td>\n",
       "      <td>{'name': 'AI타임스', 'icon': 'https://encrypted-t...</td>\n",
       "      <td>https://www.aitimes.com/news/articleView.html?...</td>\n",
       "      <td>https://cdn.aitimes.com/news/thumbnail/202406/...</td>\n",
       "      <td>06/21/2024, 07:00 AM, +0000 UTC</td>\n",
       "      <td>대학원 수준의 추론 능력(GPQA)는 59.4%로 GPT-4o(53.6%)를 크게 ...</td>\n",
       "    </tr>\n",
       "    <tr>\n",
       "      <th>1</th>\n",
       "      <td>2</td>\n",
       "      <td>GPT-4o도 제쳤다… 앤트로픽, 클로드 3.5 소네트 출시 ‘경쟁 가열’</td>\n",
       "      <td>{'name': '더밀크 The Miilk', 'icon': 'https://lh3...</td>\n",
       "      <td>https://www.themiilk.com/articles/a9e7155d0</td>\n",
       "      <td>https://dsi523du1o5iq.cloudfront.net/fit-in/90...</td>\n",
       "      <td>06/20/2024, 07:00 AM, +0000 UTC</td>\n",
       "      <td>다리오 아모데이는 컴퓨터 공학, 인공 신경망 등 AI 관련 학문을 전문적으로 연구한...</td>\n",
       "    </tr>\n",
       "    <tr>\n",
       "      <th>2</th>\n",
       "      <td>3</td>\n",
       "      <td>앤트로픽, 안드로이드용 '클로드 앱' 무료 출시... AI 챗봇 시장 경쟁 가속</td>\n",
       "      <td>{'name': '인공지능신문', 'icon': 'https://lh3.google...</td>\n",
       "      <td>https://www.aitimes.kr/news/articleView.html?i...</td>\n",
       "      <td>https://cdn.aitimes.kr/news/photo/202407/31689...</td>\n",
       "      <td>07/17/2024, 07:00 AM, +0000 UTC</td>\n",
       "      <td>새로운 클로드 안드로이드 앱은 가장 강력한 모델인 클로드 3.5 소네트(Claude...</td>\n",
       "    </tr>\n",
       "    <tr>\n",
       "      <th>3</th>\n",
       "      <td>4</td>\n",
       "      <td>앤트로픽 '클로드' 안드로이드용 앱 출시…실시간 번역 OK</td>\n",
       "      <td>{'name': '디지털투데이', 'icon': 'https://encrypted-...</td>\n",
       "      <td>https://www.digitaltoday.co.kr/news/articleVie...</td>\n",
       "      <td>https://cdn.digitaltoday.co.kr/news/photo/2024...</td>\n",
       "      <td>07/17/2024, 07:00 AM, +0000 UTC</td>\n",
       "      <td>이는 앞서 5월에 출시된 iOS 앱 버전과 동일하게 작동하며, 클로드 3.5 소네트...</td>\n",
       "    </tr>\n",
       "    <tr>\n",
       "      <th>4</th>\n",
       "      <td>5</td>\n",
       "      <td>‘제미니’와 ‘클로드’, 어느 것이 낫나?</td>\n",
       "      <td>{'name': '애플경제', 'icon': 'https://lh3.googleus...</td>\n",
       "      <td>https://www.apple-economy.com/news/articleView...</td>\n",
       "      <td>https://cdn.apple-economy.com/news/photo/20240...</td>\n",
       "      <td>07/08/2024, 07:00 AM, +0000 UTC</td>\n",
       "      <td>제미니와 클로드는 모두 아이디어나 아이템을 제안하는데도 능숙하다. 배우고 싶은 것,...</td>\n",
       "    </tr>\n",
       "  </tbody>\n",
       "</table>\n",
       "</div>"
      ],
      "text/plain": [
       "   position                                           title  \\\n",
       "0         1  앤트로픽, '클로드 3.5 소네트' 출시...'GPT-4o' 제치고 최강 모델 탈환   \n",
       "1         2       GPT-4o도 제쳤다… 앤트로픽, 클로드 3.5 소네트 출시 ‘경쟁 가열’   \n",
       "2         3    앤트로픽, 안드로이드용 '클로드 앱' 무료 출시... AI 챗봇 시장 경쟁 가속   \n",
       "3         4                앤트로픽 '클로드' 안드로이드용 앱 출시…실시간 번역 OK   \n",
       "4         5                         ‘제미니’와 ‘클로드’, 어느 것이 낫나?   \n",
       "\n",
       "                                              source  \\\n",
       "0  {'name': 'AI타임스', 'icon': 'https://encrypted-t...   \n",
       "1  {'name': '더밀크 The Miilk', 'icon': 'https://lh3...   \n",
       "2  {'name': '인공지능신문', 'icon': 'https://lh3.google...   \n",
       "3  {'name': '디지털투데이', 'icon': 'https://encrypted-...   \n",
       "4  {'name': '애플경제', 'icon': 'https://lh3.googleus...   \n",
       "\n",
       "                                                link  \\\n",
       "0  https://www.aitimes.com/news/articleView.html?...   \n",
       "1        https://www.themiilk.com/articles/a9e7155d0   \n",
       "2  https://www.aitimes.kr/news/articleView.html?i...   \n",
       "3  https://www.digitaltoday.co.kr/news/articleVie...   \n",
       "4  https://www.apple-economy.com/news/articleView...   \n",
       "\n",
       "                                           thumbnail  \\\n",
       "0  https://cdn.aitimes.com/news/thumbnail/202406/...   \n",
       "1  https://dsi523du1o5iq.cloudfront.net/fit-in/90...   \n",
       "2  https://cdn.aitimes.kr/news/photo/202407/31689...   \n",
       "3  https://cdn.digitaltoday.co.kr/news/photo/2024...   \n",
       "4  https://cdn.apple-economy.com/news/photo/20240...   \n",
       "\n",
       "                              date  \\\n",
       "0  06/21/2024, 07:00 AM, +0000 UTC   \n",
       "1  06/20/2024, 07:00 AM, +0000 UTC   \n",
       "2  07/17/2024, 07:00 AM, +0000 UTC   \n",
       "3  07/17/2024, 07:00 AM, +0000 UTC   \n",
       "4  07/08/2024, 07:00 AM, +0000 UTC   \n",
       "\n",
       "                                             content  \n",
       "0  대학원 수준의 추론 능력(GPQA)는 59.4%로 GPT-4o(53.6%)를 크게 ...  \n",
       "1  다리오 아모데이는 컴퓨터 공학, 인공 신경망 등 AI 관련 학문을 전문적으로 연구한...  \n",
       "2  새로운 클로드 안드로이드 앱은 가장 강력한 모델인 클로드 3.5 소네트(Claude...  \n",
       "3  이는 앞서 5월에 출시된 iOS 앱 버전과 동일하게 작동하며, 클로드 3.5 소네트...  \n",
       "4  제미니와 클로드는 모두 아이디어나 아이템을 제안하는데도 능숙하다. 배우고 싶은 것,...  "
      ]
     },
     "execution_count": 29,
     "metadata": {},
     "output_type": "execute_result"
    }
   ],
   "source": [
    "import pandas as pd\n",
    "data = pd.DataFrame(new_results)\n",
    "data.head()"
   ]
  },
  {
   "cell_type": "markdown",
   "metadata": {},
   "source": [
    "### 뉴스 요약 (기본 체인 구성)"
   ]
  },
  {
   "cell_type": "markdown",
   "metadata": {},
   "source": [
    "1. 기본 체인으로 뉴스 1개 요약"
   ]
  },
  {
   "cell_type": "code",
   "execution_count": 30,
   "metadata": {},
   "outputs": [
    {
     "data": {
      "text/plain": [
       "'추론 능력, 코딩 능력, 성능'"
      ]
     },
     "execution_count": 30,
     "metadata": {},
     "output_type": "execute_result"
    }
   ],
   "source": [
    "from langchain_core.prompts import PromptTemplate\n",
    "from langchain_openai import ChatOpenAI\n",
    "from langchain_core.output_parsers import StrOutputParser\n",
    "\n",
    "prompt_template = \"\"\"Please extract 3 key words from the following content in Korean Hangul (한글) and separate them with commas (,):\n",
    "\"{text}\"\n",
    "Key words:\"\"\"\n",
    "\n",
    "prompt = PromptTemplate.from_template(prompt_template)\n",
    "\n",
    "llm = ChatOpenAI(model = \"gpt-4o-mini\", temperature = 0)\n",
    "\n",
    "output_parser = StrOutputParser()\n",
    "\n",
    "chain = prompt|llm|output_parser\n",
    "\n",
    "response = chain.invoke({\"text\" : data[\"content\"][0]})\n",
    "response"
   ]
  },
  {
   "cell_type": "markdown",
   "metadata": {},
   "source": [
    "2. 함수+apply()로 뉴스 3개 요약"
   ]
  },
  {
   "cell_type": "code",
   "execution_count": 31,
   "metadata": {},
   "outputs": [],
   "source": [
    "def summarize_news(content):\n",
    "    response = chain.invoke({\"text\" : data[\"content\"][0]})\n",
    "    return response"
   ]
  },
  {
   "cell_type": "markdown",
   "metadata": {},
   "source": [
    "3. 본문(content), 요약(summary) 추출"
   ]
  },
  {
   "cell_type": "code",
   "execution_count": 40,
   "metadata": {},
   "outputs": [
    {
     "name": "stderr",
     "output_type": "stream",
     "text": [
      "C:\\Users\\lofib\\AppData\\Local\\Temp\\ipykernel_23732\\1985771624.py:2: SettingWithCopyWarning: \n",
      "A value is trying to be set on a copy of a slice from a DataFrame.\n",
      "Try using .loc[row_indexer,col_indexer] = value instead\n",
      "\n",
      "See the caveats in the documentation: https://pandas.pydata.org/pandas-docs/stable/user_guide/indexing.html#returning-a-view-versus-a-copy\n",
      "  df_test['summary'] = df_test['content'].apply(summarize_news)\n"
     ]
    },
    {
     "data": {
      "text/html": [
       "<div>\n",
       "<style scoped>\n",
       "    .dataframe tbody tr th:only-of-type {\n",
       "        vertical-align: middle;\n",
       "    }\n",
       "\n",
       "    .dataframe tbody tr th {\n",
       "        vertical-align: top;\n",
       "    }\n",
       "\n",
       "    .dataframe thead th {\n",
       "        text-align: right;\n",
       "    }\n",
       "</style>\n",
       "<table border=\"1\" class=\"dataframe\">\n",
       "  <thead>\n",
       "    <tr style=\"text-align: right;\">\n",
       "      <th></th>\n",
       "      <th>position</th>\n",
       "      <th>title</th>\n",
       "      <th>source</th>\n",
       "      <th>link</th>\n",
       "      <th>thumbnail</th>\n",
       "      <th>date</th>\n",
       "      <th>content</th>\n",
       "      <th>summary</th>\n",
       "    </tr>\n",
       "  </thead>\n",
       "  <tbody>\n",
       "    <tr>\n",
       "      <th>0</th>\n",
       "      <td>1</td>\n",
       "      <td>앤트로픽, '클로드 3.5 소네트' 출시...'GPT-4o' 제치고 최강 모델 탈환</td>\n",
       "      <td>{'name': 'AI타임스', 'icon': 'https://encrypted-t...</td>\n",
       "      <td>https://www.aitimes.com/news/articleView.html?...</td>\n",
       "      <td>https://cdn.aitimes.com/news/thumbnail/202406/...</td>\n",
       "      <td>06/21/2024, 07:00 AM, +0000 UTC</td>\n",
       "      <td>대학원 수준의 추론 능력(GPQA)는 59.4%로 GPT-4o(53.6%)를 크게 ...</td>\n",
       "      <td>대학원, 추론, 코딩</td>\n",
       "    </tr>\n",
       "    <tr>\n",
       "      <th>1</th>\n",
       "      <td>2</td>\n",
       "      <td>GPT-4o도 제쳤다… 앤트로픽, 클로드 3.5 소네트 출시 ‘경쟁 가열’</td>\n",
       "      <td>{'name': '더밀크 The Miilk', 'icon': 'https://lh3...</td>\n",
       "      <td>https://www.themiilk.com/articles/a9e7155d0</td>\n",
       "      <td>https://dsi523du1o5iq.cloudfront.net/fit-in/90...</td>\n",
       "      <td>06/20/2024, 07:00 AM, +0000 UTC</td>\n",
       "      <td>다리오 아모데이는 컴퓨터 공학, 인공 신경망 등 AI 관련 학문을 전문적으로 연구한...</td>\n",
       "      <td>추론 능력, 코딩 능력, 성능</td>\n",
       "    </tr>\n",
       "    <tr>\n",
       "      <th>2</th>\n",
       "      <td>3</td>\n",
       "      <td>앤트로픽, 안드로이드용 '클로드 앱' 무료 출시... AI 챗봇 시장 경쟁 가속</td>\n",
       "      <td>{'name': '인공지능신문', 'icon': 'https://lh3.google...</td>\n",
       "      <td>https://www.aitimes.kr/news/articleView.html?i...</td>\n",
       "      <td>https://cdn.aitimes.kr/news/photo/202407/31689...</td>\n",
       "      <td>07/17/2024, 07:00 AM, +0000 UTC</td>\n",
       "      <td>새로운 클로드 안드로이드 앱은 가장 강력한 모델인 클로드 3.5 소네트(Claude...</td>\n",
       "      <td>대학원, 추론, 코딩</td>\n",
       "    </tr>\n",
       "  </tbody>\n",
       "</table>\n",
       "</div>"
      ],
      "text/plain": [
       "   position                                           title  \\\n",
       "0         1  앤트로픽, '클로드 3.5 소네트' 출시...'GPT-4o' 제치고 최강 모델 탈환   \n",
       "1         2       GPT-4o도 제쳤다… 앤트로픽, 클로드 3.5 소네트 출시 ‘경쟁 가열’   \n",
       "2         3    앤트로픽, 안드로이드용 '클로드 앱' 무료 출시... AI 챗봇 시장 경쟁 가속   \n",
       "\n",
       "                                              source  \\\n",
       "0  {'name': 'AI타임스', 'icon': 'https://encrypted-t...   \n",
       "1  {'name': '더밀크 The Miilk', 'icon': 'https://lh3...   \n",
       "2  {'name': '인공지능신문', 'icon': 'https://lh3.google...   \n",
       "\n",
       "                                                link  \\\n",
       "0  https://www.aitimes.com/news/articleView.html?...   \n",
       "1        https://www.themiilk.com/articles/a9e7155d0   \n",
       "2  https://www.aitimes.kr/news/articleView.html?i...   \n",
       "\n",
       "                                           thumbnail  \\\n",
       "0  https://cdn.aitimes.com/news/thumbnail/202406/...   \n",
       "1  https://dsi523du1o5iq.cloudfront.net/fit-in/90...   \n",
       "2  https://cdn.aitimes.kr/news/photo/202407/31689...   \n",
       "\n",
       "                              date  \\\n",
       "0  06/21/2024, 07:00 AM, +0000 UTC   \n",
       "1  06/20/2024, 07:00 AM, +0000 UTC   \n",
       "2  07/17/2024, 07:00 AM, +0000 UTC   \n",
       "\n",
       "                                             content           summary  \n",
       "0  대학원 수준의 추론 능력(GPQA)는 59.4%로 GPT-4o(53.6%)를 크게 ...       대학원, 추론, 코딩  \n",
       "1  다리오 아모데이는 컴퓨터 공학, 인공 신경망 등 AI 관련 학문을 전문적으로 연구한...  추론 능력, 코딩 능력, 성능  \n",
       "2  새로운 클로드 안드로이드 앱은 가장 강력한 모델인 클로드 3.5 소네트(Claude...       대학원, 추론, 코딩  "
      ]
     },
     "execution_count": 40,
     "metadata": {},
     "output_type": "execute_result"
    }
   ],
   "source": [
    "df_test = data.head(3)\n",
    "df_test['summary'] = df_test['content'].apply(summarize_news)\n",
    "\n",
    "df_test"
   ]
  },
  {
   "cell_type": "markdown",
   "metadata": {},
   "source": [
    "### 키워드 추출"
   ]
  },
  {
   "cell_type": "markdown",
   "metadata": {},
   "source": [
    "1. 기본 체인으로 뉴스 1개 키워드 추출"
   ]
  },
  {
   "cell_type": "code",
   "execution_count": 41,
   "metadata": {},
   "outputs": [
    {
     "data": {
      "text/plain": [
       "'대학원, 추론, 코딩'"
      ]
     },
     "execution_count": 41,
     "metadata": {},
     "output_type": "execute_result"
    }
   ],
   "source": [
    "from langchain_core.prompts import PromptTemplate\n",
    "from langchain_openai import ChatOpenAI\n",
    "from langchain_core.output_parsers import StrOutputParser\n",
    "\n",
    "prompt_template = \"\"\"Please extract 3 key words from the following content in Korean Hangul (한글) and separate them with commas (,):\n",
    "\"{text}\"\n",
    "Key words:\"\"\"\n",
    "\n",
    "prompt = PromptTemplate.from_template(prompt_template)\n",
    "\n",
    "llm = ChatOpenAI(model = \"gpt-4o-mini\", temperature = 0)\n",
    "\n",
    "output_parser = StrOutputParser()\n",
    "\n",
    "chain = prompt|llm|output_parser\n",
    "\n",
    "response = chain.invoke({\"text\": data['content'][0]})\n",
    "response"
   ]
  },
  {
   "cell_type": "code",
   "execution_count": 42,
   "metadata": {},
   "outputs": [],
   "source": [
    "def extract_keywords(content):\n",
    "    response = chain.invoke({\"text\": data['content'][0]})\n",
    "    return response"
   ]
  },
  {
   "cell_type": "markdown",
   "metadata": {},
   "source": [
    "2. 함수+apply()로 뉴스 3개 키워드 추출"
   ]
  },
  {
   "cell_type": "code",
   "execution_count": 44,
   "metadata": {},
   "outputs": [
    {
     "name": "stderr",
     "output_type": "stream",
     "text": [
      "C:\\Users\\lofib\\AppData\\Local\\Temp\\ipykernel_23732\\1095725493.py:3: SettingWithCopyWarning: \n",
      "A value is trying to be set on a copy of a slice from a DataFrame.\n",
      "Try using .loc[row_indexer,col_indexer] = value instead\n",
      "\n",
      "See the caveats in the documentation: https://pandas.pydata.org/pandas-docs/stable/user_guide/indexing.html#returning-a-view-versus-a-copy\n",
      "  df_test['keywords'] = df_test['content'].apply(extract_keywords)\n",
      "C:\\Users\\lofib\\AppData\\Local\\Temp\\ipykernel_23732\\1095725493.py:4: SettingWithCopyWarning: \n",
      "A value is trying to be set on a copy of a slice from a DataFrame.\n",
      "Try using .loc[row_indexer,col_indexer] = value instead\n",
      "\n",
      "See the caveats in the documentation: https://pandas.pydata.org/pandas-docs/stable/user_guide/indexing.html#returning-a-view-versus-a-copy\n",
      "  df_test['summary'] = df_test['content'].apply(summarize_news)\n"
     ]
    },
    {
     "data": {
      "text/html": [
       "<div>\n",
       "<style scoped>\n",
       "    .dataframe tbody tr th:only-of-type {\n",
       "        vertical-align: middle;\n",
       "    }\n",
       "\n",
       "    .dataframe tbody tr th {\n",
       "        vertical-align: top;\n",
       "    }\n",
       "\n",
       "    .dataframe thead th {\n",
       "        text-align: right;\n",
       "    }\n",
       "</style>\n",
       "<table border=\"1\" class=\"dataframe\">\n",
       "  <thead>\n",
       "    <tr style=\"text-align: right;\">\n",
       "      <th></th>\n",
       "      <th>content</th>\n",
       "      <th>summary</th>\n",
       "      <th>keywords</th>\n",
       "    </tr>\n",
       "  </thead>\n",
       "  <tbody>\n",
       "    <tr>\n",
       "      <th>0</th>\n",
       "      <td>대학원 수준의 추론 능력(GPQA)는 59.4%로 GPT-4o(53.6%)를 크게 ...</td>\n",
       "      <td>대학원, 추론, 코딩</td>\n",
       "      <td>대학원, 추론, 코딩</td>\n",
       "    </tr>\n",
       "    <tr>\n",
       "      <th>1</th>\n",
       "      <td>다리오 아모데이는 컴퓨터 공학, 인공 신경망 등 AI 관련 학문을 전문적으로 연구한...</td>\n",
       "      <td>추론 능력, 코딩 능력, 성능</td>\n",
       "      <td>대학원, 추론, 코딩</td>\n",
       "    </tr>\n",
       "    <tr>\n",
       "      <th>2</th>\n",
       "      <td>새로운 클로드 안드로이드 앱은 가장 강력한 모델인 클로드 3.5 소네트(Claude...</td>\n",
       "      <td>대학원, 추론, 코딩</td>\n",
       "      <td>대학원, 추론, 코딩</td>\n",
       "    </tr>\n",
       "  </tbody>\n",
       "</table>\n",
       "</div>"
      ],
      "text/plain": [
       "                                             content           summary  \\\n",
       "0  대학원 수준의 추론 능력(GPQA)는 59.4%로 GPT-4o(53.6%)를 크게 ...       대학원, 추론, 코딩   \n",
       "1  다리오 아모데이는 컴퓨터 공학, 인공 신경망 등 AI 관련 학문을 전문적으로 연구한...  추론 능력, 코딩 능력, 성능   \n",
       "2  새로운 클로드 안드로이드 앱은 가장 강력한 모델인 클로드 3.5 소네트(Claude...       대학원, 추론, 코딩   \n",
       "\n",
       "      keywords  \n",
       "0  대학원, 추론, 코딩  \n",
       "1  대학원, 추론, 코딩  \n",
       "2  대학원, 추론, 코딩  "
      ]
     },
     "execution_count": 44,
     "metadata": {},
     "output_type": "execute_result"
    }
   ],
   "source": [
    "df_test = data.head(3)\n",
    "\n",
    "df_test['keywords'] = df_test['content'].apply(extract_keywords)"
   ]
  },
  {
   "cell_type": "markdown",
   "metadata": {},
   "source": [
    "3. 본문(content), 요약(summary), 키워드(keyword) 추출"
   ]
  },
  {
   "cell_type": "code",
   "execution_count": null,
   "metadata": {},
   "outputs": [],
   "source": [
    "df_test = data.head(3)\n",
    "\n",
    "df_test['keywords'] = df_test['content'].apply(extract_keywords)\n",
    "df_test['summary'] = df_test['content'].apply(summarize_news)\n",
    "\n",
    "df_test[['content', 'summary', 'keywords']]"
   ]
  },
  {
   "cell_type": "markdown",
   "metadata": {},
   "source": [
    "### 뉴스 카테고리 추출"
   ]
  },
  {
   "cell_type": "markdown",
   "metadata": {},
   "source": [
    "1. 기본 체인으로 뉴스 1개 키워드 추출"
   ]
  },
  {
   "cell_type": "code",
   "execution_count": 50,
   "metadata": {},
   "outputs": [
    {
     "data": {
      "text/plain": [
       "'기술/인공지능'"
      ]
     },
     "execution_count": 50,
     "metadata": {},
     "output_type": "execute_result"
    }
   ],
   "source": [
    "from langchain_core.prompts import PromptTemplate\n",
    "from langchain_openai import ChatOpenAI\n",
    "from langchain_core.output_parsers import StrOutputParser\n",
    "\n",
    "prompt_template = '''Here's the English translation of your request, which you can use as a prompt:\n",
    "\n",
    "Extract the news category from *{text}*. in Korean hangul (한글)\n",
    "\n",
    "News Category:\n",
    "'''\n",
    "\n",
    "prompt = PromptTemplate.from_template(prompt_template)\n",
    "\n",
    "llm = ChatOpenAI(model = \"gpt-4o-mini\", temperature=0)\n",
    "\n",
    "output_parser = StrOutputParser()\n",
    "\n",
    "chain = prompt|llm|output_parser\n",
    "\n",
    "response = chain.invoke({\"text\": data['content'][0]})\n",
    "\n",
    "response\n"
   ]
  },
  {
   "cell_type": "code",
   "execution_count": null,
   "metadata": {},
   "outputs": [],
   "source": [
    "def classify_news_category(content):\n",
    "    response = chain.invoke({\"text\": data['content'][0]})\n",
    "    return response"
   ]
  },
  {
   "cell_type": "markdown",
   "metadata": {},
   "source": [
    "2. 함수+apply()로 뉴스 3개 키워드 추출"
   ]
  },
  {
   "cell_type": "code",
   "execution_count": null,
   "metadata": {},
   "outputs": [],
   "source": [
    "df_test['category'] = df_test['content'].apply(classify_news_category)"
   ]
  },
  {
   "cell_type": "markdown",
   "metadata": {},
   "source": [
    "3. 본문(content), 요약(summary), 키워드(keyword) 추출"
   ]
  },
  {
   "cell_type": "code",
   "execution_count": null,
   "metadata": {},
   "outputs": [],
   "source": [
    "df_test[['content', 'summary', 'keywords', 'category']]"
   ]
  },
  {
   "cell_type": "markdown",
   "metadata": {},
   "source": [
    "### 키워드에서 한글 추출"
   ]
  },
  {
   "cell_type": "markdown",
   "metadata": {},
   "source": [
    "1. 정규표현식 사용해서 카테고리에서 한글만 추출"
   ]
  },
  {
   "cell_type": "code",
   "execution_count": 53,
   "metadata": {},
   "outputs": [
    {
     "data": {
      "text/plain": [
       "'기술'"
      ]
     },
     "execution_count": 53,
     "metadata": {},
     "output_type": "execute_result"
    }
   ],
   "source": [
    "import re\n",
    "\n",
    "korean_word = re.findall(r'[가-힣]+', df_test['category'][0])[0]\n",
    "korean_word"
   ]
  },
  {
   "cell_type": "markdown",
   "metadata": {},
   "source": [
    "2. 람다 함수 이용해서 각 카테고리에서 한글만 추출"
   ]
  },
  {
   "cell_type": "code",
   "execution_count": 54,
   "metadata": {},
   "outputs": [
    {
     "name": "stderr",
     "output_type": "stream",
     "text": [
      "C:\\Users\\lofib\\AppData\\Local\\Temp\\ipykernel_23732\\1981466824.py:1: SettingWithCopyWarning: \n",
      "A value is trying to be set on a copy of a slice from a DataFrame.\n",
      "Try using .loc[row_indexer,col_indexer] = value instead\n",
      "\n",
      "See the caveats in the documentation: https://pandas.pydata.org/pandas-docs/stable/user_guide/indexing.html#returning-a-view-versus-a-copy\n",
      "  df_test['category'] = df_test['category'].apply(lambda x: re.findall(r'[가-힣]+', x)[0])\n"
     ]
    },
    {
     "data": {
      "text/html": [
       "<div>\n",
       "<style scoped>\n",
       "    .dataframe tbody tr th:only-of-type {\n",
       "        vertical-align: middle;\n",
       "    }\n",
       "\n",
       "    .dataframe tbody tr th {\n",
       "        vertical-align: top;\n",
       "    }\n",
       "\n",
       "    .dataframe thead th {\n",
       "        text-align: right;\n",
       "    }\n",
       "</style>\n",
       "<table border=\"1\" class=\"dataframe\">\n",
       "  <thead>\n",
       "    <tr style=\"text-align: right;\">\n",
       "      <th></th>\n",
       "      <th>content</th>\n",
       "      <th>summary</th>\n",
       "      <th>keywords</th>\n",
       "      <th>category</th>\n",
       "    </tr>\n",
       "  </thead>\n",
       "  <tbody>\n",
       "    <tr>\n",
       "      <th>0</th>\n",
       "      <td>대학원 수준의 추론 능력(GPQA)는 59.4%로 GPT-4o(53.6%)를 크게 ...</td>\n",
       "      <td>대학원, 추론, 코딩</td>\n",
       "      <td>대학원, 추론, 코딩</td>\n",
       "      <td>기술</td>\n",
       "    </tr>\n",
       "    <tr>\n",
       "      <th>1</th>\n",
       "      <td>다리오 아모데이는 컴퓨터 공학, 인공 신경망 등 AI 관련 학문을 전문적으로 연구한...</td>\n",
       "      <td>추론 능력, 코딩 능력, 성능</td>\n",
       "      <td>대학원, 추론, 코딩</td>\n",
       "      <td>기술</td>\n",
       "    </tr>\n",
       "    <tr>\n",
       "      <th>2</th>\n",
       "      <td>새로운 클로드 안드로이드 앱은 가장 강력한 모델인 클로드 3.5 소네트(Claude...</td>\n",
       "      <td>대학원, 추론, 코딩</td>\n",
       "      <td>대학원, 추론, 코딩</td>\n",
       "      <td>기술</td>\n",
       "    </tr>\n",
       "  </tbody>\n",
       "</table>\n",
       "</div>"
      ],
      "text/plain": [
       "                                             content           summary  \\\n",
       "0  대학원 수준의 추론 능력(GPQA)는 59.4%로 GPT-4o(53.6%)를 크게 ...       대학원, 추론, 코딩   \n",
       "1  다리오 아모데이는 컴퓨터 공학, 인공 신경망 등 AI 관련 학문을 전문적으로 연구한...  추론 능력, 코딩 능력, 성능   \n",
       "2  새로운 클로드 안드로이드 앱은 가장 강력한 모델인 클로드 3.5 소네트(Claude...       대학원, 추론, 코딩   \n",
       "\n",
       "      keywords category  \n",
       "0  대학원, 추론, 코딩       기술  \n",
       "1  대학원, 추론, 코딩       기술  \n",
       "2  대학원, 추론, 코딩       기술  "
      ]
     },
     "execution_count": 54,
     "metadata": {},
     "output_type": "execute_result"
    }
   ],
   "source": [
    "df_test['category'] = df_test['category'].apply(lambda x: re.findall(r'[가-힣]+', x)[0])"
   ]
  },
  {
   "cell_type": "markdown",
   "metadata": {},
   "source": [
    "3. 본문(content), 요약(summary), 키워드(keyword), 카테고리(category) 추출"
   ]
  },
  {
   "cell_type": "code",
   "execution_count": null,
   "metadata": {},
   "outputs": [],
   "source": [
    "df_test[['content', 'summary', 'keywords', 'category']]"
   ]
  }
 ],
 "metadata": {
  "kernelspec": {
   "display_name": "googlenews_env",
   "language": "python",
   "name": "python3"
  },
  "language_info": {
   "codemirror_mode": {
    "name": "ipython",
    "version": 3
   },
   "file_extension": ".py",
   "mimetype": "text/x-python",
   "name": "python",
   "nbconvert_exporter": "python",
   "pygments_lexer": "ipython3",
   "version": "3.12.4"
  }
 },
 "nbformat": 4,
 "nbformat_minor": 2
}
