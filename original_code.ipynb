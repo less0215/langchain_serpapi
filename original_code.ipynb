{
 "cells": [
  {
   "cell_type": "markdown",
   "metadata": {},
   "source": [
    "# 환경 설정"
   ]
  },
  {
   "cell_type": "code",
   "execution_count": 1,
   "metadata": {},
   "outputs": [
    {
     "name": "stdout",
     "output_type": "stream",
     "text": [
      "Note: you may need to restart the kernel to use updated packages.\n"
     ]
    }
   ],
   "source": [
    "pip install -q langchain langchain-openai google-search-results"
   ]
  },
  {
   "cell_type": "code",
   "execution_count": null,
   "metadata": {},
   "outputs": [],
   "source": [
    "pip install langchain-community"
   ]
  },
  {
   "cell_type": "code",
   "execution_count": 2,
   "metadata": {},
   "outputs": [],
   "source": [
    "import os\n",
    "\n",
    "os.environ['OPENAI_API_KEY'] = 'api_key'\n",
    "os.environ['SERPAPI_API_KEY'] = 'api_key'"
   ]
  },
  {
   "cell_type": "markdown",
   "metadata": {},
   "source": [
    "# News 데이터 수집 - SerpAPI 활용\n",
    "- 인증키 발급 필요 (월 100회 무료)\n",
    "- https://serpapi.com/"
   ]
  },
  {
   "cell_type": "code",
   "execution_count": null,
   "metadata": {},
   "outputs": [],
   "source": [
    "from langchain_community.utilities import SerpAPIWrapper\n",
    "\n",
    "params = {\n",
    "    \"engine\": \"google_news\",\n",
    "    \"gl\": \"KR\",\n",
    "    \"hl\": \"ko\",\n",
    "}\n",
    "search = SerpAPIWrapper(params=params)\n",
    "\n",
    "search.run(\"클로드\")"
   ]
  },
  {
   "cell_type": "code",
   "execution_count": 11,
   "metadata": {},
   "outputs": [
    {
     "data": {
      "text/plain": [
       "97"
      ]
     },
     "execution_count": 11,
     "metadata": {},
     "output_type": "execute_result"
    }
   ],
   "source": [
    "results = search.run(\"클로드\")\n",
    "len(results)"
   ]
  },
  {
   "cell_type": "code",
   "execution_count": 12,
   "metadata": {},
   "outputs": [
    {
     "data": {
      "text/plain": [
       "{'position': 1,\n",
       " 'title': \"앤트로픽, '클로드 3.5 소네트' 출시...'GPT-4o' 제치고 최강 모델 탈환\",\n",
       " 'source': {'name': 'AI타임스',\n",
       "  'icon': 'https://encrypted-tbn0.gstatic.com/faviconV2?url=https://www.aitimes.com&client=NEWS_360&size=96&type=FAVICON&fallback_opts=TYPE,SIZE,URL'},\n",
       " 'link': 'https://www.aitimes.com/news/articleView.html?idxno=160843',\n",
       " 'thumbnail': 'https://cdn.aitimes.com/news/thumbnail/202406/160843_173716_83_v150.jpg',\n",
       " 'date': '06/21/2024, 07:00 AM, +0000 UTC'}"
      ]
     },
     "execution_count": 12,
     "metadata": {},
     "output_type": "execute_result"
    }
   ],
   "source": [
    "results[0]"
   ]
  },
  {
   "cell_type": "code",
   "execution_count": 7,
   "metadata": {},
   "outputs": [
    {
     "data": {
      "text/plain": [
       "dict_keys(['position', 'title', 'source', 'link', 'thumbnail', 'date'])"
      ]
     },
     "execution_count": 7,
     "metadata": {},
     "output_type": "execute_result"
    }
   ],
   "source": [
    "results[0].keys()"
   ]
  },
  {
   "cell_type": "code",
   "execution_count": 13,
   "metadata": {},
   "outputs": [
    {
     "data": {
      "text/plain": [
       "'https://www.aitimes.com/news/articleView.html?idxno=160843'"
      ]
     },
     "execution_count": 13,
     "metadata": {},
     "output_type": "execute_result"
    }
   ],
   "source": [
    "url = results[0]['link']\n",
    "url"
   ]
  },
  {
   "cell_type": "markdown",
   "metadata": {},
   "source": [
    "### LangChain WebBaseLoader 활용"
   ]
  },
  {
   "cell_type": "code",
   "execution_count": null,
   "metadata": {},
   "outputs": [],
   "source": [
    "pip install beautifulsoup4"
   ]
  },
  {
   "cell_type": "code",
   "execution_count": null,
   "metadata": {},
   "outputs": [],
   "source": [
    "# Data Loader - 웹페이지 데이터 가져오기\n",
    "from langchain_community.document_loaders import WebBaseLoader\n",
    "from bs4 import BeautifulSoup\n",
    "\n",
    "loader = WebBaseLoader(url)\n",
    "docs = loader.load()\n",
    "\n",
    "docs[0]"
   ]
  },
  {
   "cell_type": "code",
   "execution_count": 20,
   "metadata": {},
   "outputs": [
    {
     "name": "stdout",
     "output_type": "stream",
     "text": [
      "가장 긴 텍스트:\n",
      " 대학원 수준의 추론 능력(GPQA)는 59.4%로 GPT-4o(53.6%)를 크게 앞섰고, 코딩 능력(HumanEval) 역시 92.0%로 GPT-4o( 90.2%) 대비 1.8%포인트 높았다. 또 클로드 3.5 소네트는 중간 크기의 모델이지만, 전 세대 최고 모델인 클로드 3 오퍼스의 성능을 모두 앞질렀다. \n"
     ]
    }
   ],
   "source": [
    "# 뉴스기사에서 본문 텍스트를 추출하는 함수\n",
    "def extract_longest_text(text):\n",
    "    # 개행문자(\\n\\n)를 기준으로 텍스트를 분할\n",
    "    segments = text.split('\\n')\n",
    "    # 가장 긴 텍스트 조각을 찾음\n",
    "    longest_segment = max(segments, key=len)\n",
    "    return longest_segment\n",
    "\n",
    "text = docs[0].page_content\n",
    "\n",
    "longest_text = extract_longest_text(text)\n",
    "print(\"가장 긴 텍스트:\\n\", longest_text)"
   ]
  },
  {
   "cell_type": "code",
   "execution_count": null,
   "metadata": {},
   "outputs": [],
   "source": [
    "# SerpAPI 검색 결과를 순회하면서 본문 텍스트를 추출하여 기존 딕셔너리에 추가\n",
    "\n",
    "from tqdm import tqdm\n",
    "import time\n",
    "\n",
    "new_results = []\n",
    "for result in tqdm(results):\n",
    "    try:\n",
    "        url = result['link']\n",
    "        loader = WebBaseLoader(url)\n",
    "        docs = loader.load()\n",
    "        text = docs[0].page_content\n",
    "        longest_text = extract_longest_text(text)\n",
    "        result['content'] = longest_text\n",
    "        new_results.append(result)\n",
    "    except:\n",
    "        pass\n",
    "\n",
    "\n",
    "# 결과 확인\n",
    "print(\"새로운 결과 개수:\", len(new_results))\n",
    "new_results[0]"
   ]
  },
  {
   "cell_type": "markdown",
   "metadata": {},
   "source": [
    "# 판다스 데이터프레임으로 변환"
   ]
  },
  {
   "cell_type": "code",
   "execution_count": null,
   "metadata": {},
   "outputs": [],
   "source": [
    "pip install pandas"
   ]
  },
  {
   "cell_type": "code",
   "execution_count": 24,
   "metadata": {},
   "outputs": [
    {
     "data": {
      "text/html": [
       "<div>\n",
       "<style scoped>\n",
       "    .dataframe tbody tr th:only-of-type {\n",
       "        vertical-align: middle;\n",
       "    }\n",
       "\n",
       "    .dataframe tbody tr th {\n",
       "        vertical-align: top;\n",
       "    }\n",
       "\n",
       "    .dataframe thead th {\n",
       "        text-align: right;\n",
       "    }\n",
       "</style>\n",
       "<table border=\"1\" class=\"dataframe\">\n",
       "  <thead>\n",
       "    <tr style=\"text-align: right;\">\n",
       "      <th></th>\n",
       "      <th>position</th>\n",
       "      <th>title</th>\n",
       "      <th>source</th>\n",
       "      <th>link</th>\n",
       "      <th>thumbnail</th>\n",
       "      <th>date</th>\n",
       "      <th>content</th>\n",
       "    </tr>\n",
       "  </thead>\n",
       "  <tbody>\n",
       "    <tr>\n",
       "      <th>0</th>\n",
       "      <td>1</td>\n",
       "      <td>앤트로픽, '클로드 3.5 소네트' 출시...'GPT-4o' 제치고 최강 모델 탈환</td>\n",
       "      <td>{'name': 'AI타임스', 'icon': 'https://encrypted-t...</td>\n",
       "      <td>https://www.aitimes.com/news/articleView.html?...</td>\n",
       "      <td>https://cdn.aitimes.com/news/thumbnail/202406/...</td>\n",
       "      <td>06/21/2024, 07:00 AM, +0000 UTC</td>\n",
       "      <td>대학원 수준의 추론 능력(GPQA)는 59.4%로 GPT-4o(53.6%)를 크게 ...</td>\n",
       "    </tr>\n",
       "    <tr>\n",
       "      <th>1</th>\n",
       "      <td>2</td>\n",
       "      <td>GPT-4o도 제쳤다… 앤트로픽, 클로드 3.5 소네트 출시 ‘경쟁 가열’</td>\n",
       "      <td>{'name': '더밀크 The Miilk', 'icon': 'https://lh3...</td>\n",
       "      <td>https://www.themiilk.com/articles/a9e7155d0</td>\n",
       "      <td>https://dsi523du1o5iq.cloudfront.net/fit-in/90...</td>\n",
       "      <td>06/20/2024, 07:00 AM, +0000 UTC</td>\n",
       "      <td>다리오 아모데이는 컴퓨터 공학, 인공 신경망 등 AI 관련 학문을 전문적으로 연구한...</td>\n",
       "    </tr>\n",
       "    <tr>\n",
       "      <th>2</th>\n",
       "      <td>3</td>\n",
       "      <td>앤트로픽, 안드로이드용 '클로드 앱' 무료 출시... AI 챗봇 시장 경쟁 가속</td>\n",
       "      <td>{'name': '인공지능신문', 'icon': 'https://lh3.google...</td>\n",
       "      <td>https://www.aitimes.kr/news/articleView.html?i...</td>\n",
       "      <td>https://cdn.aitimes.kr/news/photo/202407/31689...</td>\n",
       "      <td>07/17/2024, 07:00 AM, +0000 UTC</td>\n",
       "      <td>새로운 클로드 안드로이드 앱은 가장 강력한 모델인 클로드 3.5 소네트(Claude...</td>\n",
       "    </tr>\n",
       "    <tr>\n",
       "      <th>3</th>\n",
       "      <td>4</td>\n",
       "      <td>앤트로픽 '클로드' 안드로이드용 앱 출시…실시간 번역 OK</td>\n",
       "      <td>{'name': '디지털투데이', 'icon': 'https://encrypted-...</td>\n",
       "      <td>https://www.digitaltoday.co.kr/news/articleVie...</td>\n",
       "      <td>https://cdn.digitaltoday.co.kr/news/photo/2024...</td>\n",
       "      <td>07/17/2024, 07:00 AM, +0000 UTC</td>\n",
       "      <td>이는 앞서 5월에 출시된 iOS 앱 버전과 동일하게 작동하며, 클로드 3.5 소네트...</td>\n",
       "    </tr>\n",
       "    <tr>\n",
       "      <th>4</th>\n",
       "      <td>5</td>\n",
       "      <td>‘제미니’와 ‘클로드’, 어느 것이 낫나?</td>\n",
       "      <td>{'name': '애플경제', 'icon': 'https://lh3.googleus...</td>\n",
       "      <td>https://www.apple-economy.com/news/articleView...</td>\n",
       "      <td>https://cdn.apple-economy.com/news/photo/20240...</td>\n",
       "      <td>07/08/2024, 07:00 AM, +0000 UTC</td>\n",
       "      <td>제미니와 클로드는 모두 아이디어나 아이템을 제안하는데도 능숙하다. 배우고 싶은 것,...</td>\n",
       "    </tr>\n",
       "  </tbody>\n",
       "</table>\n",
       "</div>"
      ],
      "text/plain": [
       "   position                                           title  \\\n",
       "0         1  앤트로픽, '클로드 3.5 소네트' 출시...'GPT-4o' 제치고 최강 모델 탈환   \n",
       "1         2       GPT-4o도 제쳤다… 앤트로픽, 클로드 3.5 소네트 출시 ‘경쟁 가열’   \n",
       "2         3    앤트로픽, 안드로이드용 '클로드 앱' 무료 출시... AI 챗봇 시장 경쟁 가속   \n",
       "3         4                앤트로픽 '클로드' 안드로이드용 앱 출시…실시간 번역 OK   \n",
       "4         5                         ‘제미니’와 ‘클로드’, 어느 것이 낫나?   \n",
       "\n",
       "                                              source  \\\n",
       "0  {'name': 'AI타임스', 'icon': 'https://encrypted-t...   \n",
       "1  {'name': '더밀크 The Miilk', 'icon': 'https://lh3...   \n",
       "2  {'name': '인공지능신문', 'icon': 'https://lh3.google...   \n",
       "3  {'name': '디지털투데이', 'icon': 'https://encrypted-...   \n",
       "4  {'name': '애플경제', 'icon': 'https://lh3.googleus...   \n",
       "\n",
       "                                                link  \\\n",
       "0  https://www.aitimes.com/news/articleView.html?...   \n",
       "1        https://www.themiilk.com/articles/a9e7155d0   \n",
       "2  https://www.aitimes.kr/news/articleView.html?i...   \n",
       "3  https://www.digitaltoday.co.kr/news/articleVie...   \n",
       "4  https://www.apple-economy.com/news/articleView...   \n",
       "\n",
       "                                           thumbnail  \\\n",
       "0  https://cdn.aitimes.com/news/thumbnail/202406/...   \n",
       "1  https://dsi523du1o5iq.cloudfront.net/fit-in/90...   \n",
       "2  https://cdn.aitimes.kr/news/photo/202407/31689...   \n",
       "3  https://cdn.digitaltoday.co.kr/news/photo/2024...   \n",
       "4  https://cdn.apple-economy.com/news/photo/20240...   \n",
       "\n",
       "                              date  \\\n",
       "0  06/21/2024, 07:00 AM, +0000 UTC   \n",
       "1  06/20/2024, 07:00 AM, +0000 UTC   \n",
       "2  07/17/2024, 07:00 AM, +0000 UTC   \n",
       "3  07/17/2024, 07:00 AM, +0000 UTC   \n",
       "4  07/08/2024, 07:00 AM, +0000 UTC   \n",
       "\n",
       "                                             content  \n",
       "0  대학원 수준의 추론 능력(GPQA)는 59.4%로 GPT-4o(53.6%)를 크게 ...  \n",
       "1  다리오 아모데이는 컴퓨터 공학, 인공 신경망 등 AI 관련 학문을 전문적으로 연구한...  \n",
       "2  새로운 클로드 안드로이드 앱은 가장 강력한 모델인 클로드 3.5 소네트(Claude...  \n",
       "3  이는 앞서 5월에 출시된 iOS 앱 버전과 동일하게 작동하며, 클로드 3.5 소네트...  \n",
       "4  제미니와 클로드는 모두 아이디어나 아이템을 제안하는데도 능숙하다. 배우고 싶은 것,...  "
      ]
     },
     "execution_count": 24,
     "metadata": {},
     "output_type": "execute_result"
    }
   ],
   "source": [
    "import pandas as pd\n",
    "data = pd.DataFrame(new_results)\n",
    "data.head()"
   ]
  },
  {
   "cell_type": "markdown",
   "metadata": {},
   "source": [
    "# 뉴스 요약"
   ]
  },
  {
   "cell_type": "code",
   "execution_count": 25,
   "metadata": {},
   "outputs": [
    {
     "data": {
      "text/plain": [
       "'대학원 수준의 추론 능력(GPQA)은 59.4%로 GPT-4o를 크게 앞섰고, 코딩 능력(HumanEval)도 92.0%로 GPT-4o보다 높았다. 클로드 3.5 소네트는 중간 크기 모델임에도 클로드 3 오퍼스의 성능을 초월했다.'"
      ]
     },
     "execution_count": 25,
     "metadata": {},
     "output_type": "execute_result"
    }
   ],
   "source": [
    "from langchain.prompts import PromptTemplate\n",
    "from langchain_openai import ChatOpenAI\n",
    "from langchain_core.output_parsers import StrOutputParser\n",
    "\n",
    "# prompt\n",
    "prompt_template = \"\"\"Write a concise summary of the following in Korean Hangul (한글):\n",
    "\"{text}\"\n",
    "CONCISE SUMMARY:\"\"\"\n",
    "prompt = PromptTemplate.from_template(prompt_template)\n",
    "\n",
    "# LLM\n",
    "llm = ChatOpenAI(temperature=0, model_name=\"gpt-4o-mini\")\n",
    "\n",
    "# output parser\n",
    "output_parser = StrOutputParser()\n",
    "\n",
    "# Chain\n",
    "llm_chain = prompt | llm | output_parser\n",
    "\n",
    "response = llm_chain.invoke({\"text\": data['content'][0]})\n",
    "\n",
    "response"
   ]
  },
  {
   "cell_type": "code",
   "execution_count": 50,
   "metadata": {},
   "outputs": [
    {
     "name": "stderr",
     "output_type": "stream",
     "text": [
      "/var/folders/nd/kfl3k2197fv3vr63kpjrnrg00000gn/T/ipykernel_5239/3536674286.py:8: SettingWithCopyWarning: \n",
      "A value is trying to be set on a copy of a slice from a DataFrame.\n",
      "Try using .loc[row_indexer,col_indexer] = value instead\n",
      "\n",
      "See the caveats in the documentation: https://pandas.pydata.org/pandas-docs/stable/user_guide/indexing.html#returning-a-view-versus-a-copy\n",
      "  df_test['summary'] = df_test['content'].apply(summarize_news)\n"
     ]
    },
    {
     "data": {
      "text/html": [
       "<div>\n",
       "<style scoped>\n",
       "    .dataframe tbody tr th:only-of-type {\n",
       "        vertical-align: middle;\n",
       "    }\n",
       "\n",
       "    .dataframe tbody tr th {\n",
       "        vertical-align: top;\n",
       "    }\n",
       "\n",
       "    .dataframe thead th {\n",
       "        text-align: right;\n",
       "    }\n",
       "</style>\n",
       "<table border=\"1\" class=\"dataframe\">\n",
       "  <thead>\n",
       "    <tr style=\"text-align: right;\">\n",
       "      <th></th>\n",
       "      <th>position</th>\n",
       "      <th>title</th>\n",
       "      <th>source</th>\n",
       "      <th>link</th>\n",
       "      <th>thumbnail</th>\n",
       "      <th>date</th>\n",
       "      <th>content</th>\n",
       "      <th>summary</th>\n",
       "    </tr>\n",
       "  </thead>\n",
       "  <tbody>\n",
       "    <tr>\n",
       "      <th>0</th>\n",
       "      <td>1</td>\n",
       "      <td>이차전지 산업 성과와 향후 과제는</td>\n",
       "      <td>{'name': '전자신문', 'icon': 'https://encrypted-tb...</td>\n",
       "      <td>https://www.etnews.com/20240311000263</td>\n",
       "      <td>https://news.google.com/api/attachments/CC8iL0...</td>\n",
       "      <td>03/11/2024, 05:26 AM, +0000 UTC</td>\n",
       "      <td>민·관 합동 배터리 얼라이언스 제3차 수출·현안 전략회의가 11일 서울 강남구 한국...</td>\n",
       "      <td>한국에서 민·관 합동 배터리 얼라이언스 제3차 수출·현안 전략회의가 열렸고, 안덕근...</td>\n",
       "    </tr>\n",
       "    <tr>\n",
       "      <th>1</th>\n",
       "      <td>2</td>\n",
       "      <td>윤신애 군산시의원, '군산새만금 이차전지산업 발전위원회 설치 및 운영조례안' 상임위...</td>\n",
       "      <td>{'name': '아시아뉴스전북', 'icon': 'https://lh3.googl...</td>\n",
       "      <td>http://www.mjeonbuk.com/news/articleView.html?...</td>\n",
       "      <td>https://news.google.com/api/attachments/CC8iK0...</td>\n",
       "      <td>03/12/2024, 06:56 AM, +0000 UTC</td>\n",
       "      <td>윤신애 의원은 “작년「군산새만금신항 발전위원회 설치 및 운영조례」를 발의, 발전위원...</td>\n",
       "      <td>윤신애 의원은 작년 발의한 군산 새만금신항 발전위원회 설치 및 운영조례로 새만금 개...</td>\n",
       "    </tr>\n",
       "    <tr>\n",
       "      <th>2</th>\n",
       "      <td>3</td>\n",
       "      <td>[이차전지특구-충북②] 충북도 김명규 경제부지사, “국내 1위 넘어 글로벌 배터리 ...</td>\n",
       "      <td>{'name': '인더스트리뉴스', 'icon': 'https://lh3.googl...</td>\n",
       "      <td>https://www.industrynews.co.kr/news/articleVie...</td>\n",
       "      <td>https://news.google.com/api/attachments/CC8iK0...</td>\n",
       "      <td>03/07/2024, 01:00 AM, +0000 UTC</td>\n",
       "      <td>인더스트리뉴스는 2024년 배터리리포트 기획으로 ‘국가첨단전략산업 이차전지 특화단지...</td>\n",
       "      <td>인더스트리뉴스는 2024년 배터리리포트 기획으로 ‘국가첨단전략산업 이차전지 특화단지...</td>\n",
       "    </tr>\n",
       "  </tbody>\n",
       "</table>\n",
       "</div>"
      ],
      "text/plain": [
       "   position                                              title  \\\n",
       "0         1                                 이차전지 산업 성과와 향후 과제는   \n",
       "1         2  윤신애 군산시의원, '군산새만금 이차전지산업 발전위원회 설치 및 운영조례안' 상임위...   \n",
       "2         3  [이차전지특구-충북②] 충북도 김명규 경제부지사, “국내 1위 넘어 글로벌 배터리 ...   \n",
       "\n",
       "                                              source  \\\n",
       "0  {'name': '전자신문', 'icon': 'https://encrypted-tb...   \n",
       "1  {'name': '아시아뉴스전북', 'icon': 'https://lh3.googl...   \n",
       "2  {'name': '인더스트리뉴스', 'icon': 'https://lh3.googl...   \n",
       "\n",
       "                                                link  \\\n",
       "0              https://www.etnews.com/20240311000263   \n",
       "1  http://www.mjeonbuk.com/news/articleView.html?...   \n",
       "2  https://www.industrynews.co.kr/news/articleVie...   \n",
       "\n",
       "                                           thumbnail  \\\n",
       "0  https://news.google.com/api/attachments/CC8iL0...   \n",
       "1  https://news.google.com/api/attachments/CC8iK0...   \n",
       "2  https://news.google.com/api/attachments/CC8iK0...   \n",
       "\n",
       "                              date  \\\n",
       "0  03/11/2024, 05:26 AM, +0000 UTC   \n",
       "1  03/12/2024, 06:56 AM, +0000 UTC   \n",
       "2  03/07/2024, 01:00 AM, +0000 UTC   \n",
       "\n",
       "                                             content  \\\n",
       "0  민·관 합동 배터리 얼라이언스 제3차 수출·현안 전략회의가 11일 서울 강남구 한국...   \n",
       "1  윤신애 의원은 “작년「군산새만금신항 발전위원회 설치 및 운영조례」를 발의, 발전위원...   \n",
       "2  인더스트리뉴스는 2024년 배터리리포트 기획으로 ‘국가첨단전략산업 이차전지 특화단지...   \n",
       "\n",
       "                                             summary  \n",
       "0  한국에서 민·관 합동 배터리 얼라이언스 제3차 수출·현안 전략회의가 열렸고, 안덕근...  \n",
       "1  윤신애 의원은 작년 발의한 군산 새만금신항 발전위원회 설치 및 운영조례로 새만금 개...  \n",
       "2  인더스트리뉴스는 2024년 배터리리포트 기획으로 ‘국가첨단전략산업 이차전지 특화단지...  "
      ]
     },
     "execution_count": 50,
     "metadata": {},
     "output_type": "execute_result"
    }
   ],
   "source": [
    "# 뉴스 본문을 입력으로 사용하여 요약 결과를 생성하는 함수\n",
    "def summarize_news(content):\n",
    "    response = llm_chain.invoke({\"text\": content})\n",
    "    return response\n",
    "\n",
    "# 결과 확인 - 테스트를 위해서 첫 3행만 별도로 추출하여 요약\n",
    "df_test = data.head(3)\n",
    "df_test['summary'] = df_test['content'].apply(summarize_news)\n",
    "\n",
    "df_test"
   ]
  },
  {
   "cell_type": "code",
   "execution_count": 51,
   "metadata": {},
   "outputs": [
    {
     "data": {
      "text/html": [
       "<div>\n",
       "<style scoped>\n",
       "    .dataframe tbody tr th:only-of-type {\n",
       "        vertical-align: middle;\n",
       "    }\n",
       "\n",
       "    .dataframe tbody tr th {\n",
       "        vertical-align: top;\n",
       "    }\n",
       "\n",
       "    .dataframe thead th {\n",
       "        text-align: right;\n",
       "    }\n",
       "</style>\n",
       "<table border=\"1\" class=\"dataframe\">\n",
       "  <thead>\n",
       "    <tr style=\"text-align: right;\">\n",
       "      <th></th>\n",
       "      <th>content</th>\n",
       "      <th>summary</th>\n",
       "    </tr>\n",
       "  </thead>\n",
       "  <tbody>\n",
       "    <tr>\n",
       "      <th>0</th>\n",
       "      <td>민·관 합동 배터리 얼라이언스 제3차 수출·현안 전략회의가 11일 서울 강남구 한국...</td>\n",
       "      <td>한국에서 민·관 합동 배터리 얼라이언스 제3차 수출·현안 전략회의가 열렸고, 안덕근...</td>\n",
       "    </tr>\n",
       "    <tr>\n",
       "      <th>1</th>\n",
       "      <td>윤신애 의원은 “작년「군산새만금신항 발전위원회 설치 및 운영조례」를 발의, 발전위원...</td>\n",
       "      <td>윤신애 의원은 작년 발의한 군산 새만금신항 발전위원회 설치 및 운영조례로 새만금 개...</td>\n",
       "    </tr>\n",
       "    <tr>\n",
       "      <th>2</th>\n",
       "      <td>인더스트리뉴스는 2024년 배터리리포트 기획으로 ‘국가첨단전략산업 이차전지 특화단지...</td>\n",
       "      <td>인더스트리뉴스는 2024년 배터리리포트 기획으로 ‘국가첨단전략산업 이차전지 특화단지...</td>\n",
       "    </tr>\n",
       "  </tbody>\n",
       "</table>\n",
       "</div>"
      ],
      "text/plain": [
       "                                             content  \\\n",
       "0  민·관 합동 배터리 얼라이언스 제3차 수출·현안 전략회의가 11일 서울 강남구 한국...   \n",
       "1  윤신애 의원은 “작년「군산새만금신항 발전위원회 설치 및 운영조례」를 발의, 발전위원...   \n",
       "2  인더스트리뉴스는 2024년 배터리리포트 기획으로 ‘국가첨단전략산업 이차전지 특화단지...   \n",
       "\n",
       "                                             summary  \n",
       "0  한국에서 민·관 합동 배터리 얼라이언스 제3차 수출·현안 전략회의가 열렸고, 안덕근...  \n",
       "1  윤신애 의원은 작년 발의한 군산 새만금신항 발전위원회 설치 및 운영조례로 새만금 개...  \n",
       "2  인더스트리뉴스는 2024년 배터리리포트 기획으로 ‘국가첨단전략산업 이차전지 특화단지...  "
      ]
     },
     "execution_count": 51,
     "metadata": {},
     "output_type": "execute_result"
    }
   ],
   "source": [
    "df_test[['content', 'summary']]"
   ]
  },
  {
   "cell_type": "markdown",
   "metadata": {},
   "source": [
    "# 키워드 추출"
   ]
  },
  {
   "cell_type": "code",
   "execution_count": 52,
   "metadata": {},
   "outputs": [
    {
     "data": {
      "text/plain": [
       "'합동, 배터리, 현안'"
      ]
     },
     "execution_count": 52,
     "metadata": {},
     "output_type": "execute_result"
    }
   ],
   "source": [
    "from langchain.prompts import PromptTemplate\n",
    "from langchain_openai import ChatOpenAI\n",
    "from langchain_core.output_parsers import StrOutputParser\n",
    "\n",
    "# prompt\n",
    "prompt_template = \"\"\"Please extract 3 key words from the following content in Korean Hangul (한글) and separate them with commas (,):\n",
    "\"{text}\"\n",
    "Key words:\"\"\"\n",
    "\n",
    "prompt = PromptTemplate.from_template(prompt_template)\n",
    "\n",
    "# LLM\n",
    "llm = ChatOpenAI(temperature=0, model_name=\"gpt-3.5-turbo-0125\")\n",
    "\n",
    "# output parser\n",
    "output_parser = StrOutputParser()\n",
    "\n",
    "# Chain\n",
    "llm_chain = prompt | llm | output_parser\n",
    "\n",
    "response = llm_chain.invoke({\"text\": data['content'][0]})\n",
    "\n",
    "response"
   ]
  },
  {
   "cell_type": "code",
   "execution_count": 53,
   "metadata": {},
   "outputs": [
    {
     "name": "stderr",
     "output_type": "stream",
     "text": [
      "/var/folders/nd/kfl3k2197fv3vr63kpjrnrg00000gn/T/ipykernel_5239/77447675.py:7: SettingWithCopyWarning: \n",
      "A value is trying to be set on a copy of a slice from a DataFrame.\n",
      "Try using .loc[row_indexer,col_indexer] = value instead\n",
      "\n",
      "See the caveats in the documentation: https://pandas.pydata.org/pandas-docs/stable/user_guide/indexing.html#returning-a-view-versus-a-copy\n",
      "  df_test['keywords'] = df_test['content'].apply(extract_keywords)\n"
     ]
    },
    {
     "data": {
      "text/html": [
       "<div>\n",
       "<style scoped>\n",
       "    .dataframe tbody tr th:only-of-type {\n",
       "        vertical-align: middle;\n",
       "    }\n",
       "\n",
       "    .dataframe tbody tr th {\n",
       "        vertical-align: top;\n",
       "    }\n",
       "\n",
       "    .dataframe thead th {\n",
       "        text-align: right;\n",
       "    }\n",
       "</style>\n",
       "<table border=\"1\" class=\"dataframe\">\n",
       "  <thead>\n",
       "    <tr style=\"text-align: right;\">\n",
       "      <th></th>\n",
       "      <th>content</th>\n",
       "      <th>summary</th>\n",
       "      <th>keywords</th>\n",
       "    </tr>\n",
       "  </thead>\n",
       "  <tbody>\n",
       "    <tr>\n",
       "      <th>0</th>\n",
       "      <td>민·관 합동 배터리 얼라이언스 제3차 수출·현안 전략회의가 11일 서울 강남구 한국...</td>\n",
       "      <td>한국에서 민·관 합동 배터리 얼라이언스 제3차 수출·현안 전략회의가 열렸고, 안덕근...</td>\n",
       "      <td>배터리, 수출, 현안</td>\n",
       "    </tr>\n",
       "    <tr>\n",
       "      <th>1</th>\n",
       "      <td>윤신애 의원은 “작년「군산새만금신항 발전위원회 설치 및 운영조례」를 발의, 발전위원...</td>\n",
       "      <td>윤신애 의원은 작년 발의한 군산 새만금신항 발전위원회 설치 및 운영조례로 새만금 개...</td>\n",
       "      <td>윤신애, 새만금, 발전위원회</td>\n",
       "    </tr>\n",
       "    <tr>\n",
       "      <th>2</th>\n",
       "      <td>인더스트리뉴스는 2024년 배터리리포트 기획으로 ‘국가첨단전략산업 이차전지 특화단지...</td>\n",
       "      <td>인더스트리뉴스는 2024년 배터리리포트 기획으로 ‘국가첨단전략산업 이차전지 특화단지...</td>\n",
       "      <td>이차전지, 국내, 충북</td>\n",
       "    </tr>\n",
       "  </tbody>\n",
       "</table>\n",
       "</div>"
      ],
      "text/plain": [
       "                                             content  \\\n",
       "0  민·관 합동 배터리 얼라이언스 제3차 수출·현안 전략회의가 11일 서울 강남구 한국...   \n",
       "1  윤신애 의원은 “작년「군산새만금신항 발전위원회 설치 및 운영조례」를 발의, 발전위원...   \n",
       "2  인더스트리뉴스는 2024년 배터리리포트 기획으로 ‘국가첨단전략산업 이차전지 특화단지...   \n",
       "\n",
       "                                             summary         keywords  \n",
       "0  한국에서 민·관 합동 배터리 얼라이언스 제3차 수출·현안 전략회의가 열렸고, 안덕근...      배터리, 수출, 현안  \n",
       "1  윤신애 의원은 작년 발의한 군산 새만금신항 발전위원회 설치 및 운영조례로 새만금 개...  윤신애, 새만금, 발전위원회  \n",
       "2  인더스트리뉴스는 2024년 배터리리포트 기획으로 ‘국가첨단전략산업 이차전지 특화단지...     이차전지, 국내, 충북  "
      ]
     },
     "execution_count": 53,
     "metadata": {},
     "output_type": "execute_result"
    }
   ],
   "source": [
    "# 뉴스 본문을 입력으로 사용하여 핵심 키워드를 추출하는 함수\n",
    "def extract_keywords(content):\n",
    "    response = llm_chain.invoke({\"text\": content})\n",
    "    return response\n",
    "\n",
    "# 결과 확인 - 테스트를 위해서 첫 3행만 별도로 추출하여 추출\n",
    "df_test['keywords'] = df_test['content'].apply(extract_keywords)\n",
    "\n",
    "df_test[['content', 'summary', 'keywords']]"
   ]
  },
  {
   "cell_type": "markdown",
   "metadata": {},
   "source": [
    "# 뉴스 카테고리 분류"
   ]
  },
  {
   "cell_type": "code",
   "execution_count": 54,
   "metadata": {},
   "outputs": [
    {
     "data": {
      "text/plain": [
       "'경제 (Economy) - 경제'"
      ]
     },
     "execution_count": 54,
     "metadata": {},
     "output_type": "execute_result"
    }
   ],
   "source": [
    "from langchain.prompts import PromptTemplate\n",
    "from langchain_openai import ChatOpenAI\n",
    "from langchain_core.output_parsers import StrOutputParser\n",
    "\n",
    "# prompt\n",
    "prompt_template = \"\"\"Based on the following content, please classify the news into the appropriate category and provide the category name in Korean Hangul (한글):\n",
    "\"{text}\"\n",
    "News Category:\"\"\"\n",
    "\n",
    "prompt = PromptTemplate.from_template(prompt_template)\n",
    "\n",
    "# LLM\n",
    "llm = ChatOpenAI(temperature=0, model_name=\"gpt-3.5-turbo-0125\")\n",
    "\n",
    "# output parser\n",
    "output_parser = StrOutputParser()\n",
    "\n",
    "# Chain\n",
    "llm_chain = prompt | llm | output_parser\n",
    "\n",
    "response = llm_chain.invoke({\"text\": data['content'][0]})\n",
    "\n",
    "response"
   ]
  },
  {
   "cell_type": "code",
   "execution_count": 55,
   "metadata": {},
   "outputs": [
    {
     "name": "stderr",
     "output_type": "stream",
     "text": [
      "/var/folders/nd/kfl3k2197fv3vr63kpjrnrg00000gn/T/ipykernel_5239/2226806532.py:7: SettingWithCopyWarning: \n",
      "A value is trying to be set on a copy of a slice from a DataFrame.\n",
      "Try using .loc[row_indexer,col_indexer] = value instead\n",
      "\n",
      "See the caveats in the documentation: https://pandas.pydata.org/pandas-docs/stable/user_guide/indexing.html#returning-a-view-versus-a-copy\n",
      "  df_test['category'] = df_test['content'].apply(classify_news_category)\n"
     ]
    },
    {
     "data": {
      "text/html": [
       "<div>\n",
       "<style scoped>\n",
       "    .dataframe tbody tr th:only-of-type {\n",
       "        vertical-align: middle;\n",
       "    }\n",
       "\n",
       "    .dataframe tbody tr th {\n",
       "        vertical-align: top;\n",
       "    }\n",
       "\n",
       "    .dataframe thead th {\n",
       "        text-align: right;\n",
       "    }\n",
       "</style>\n",
       "<table border=\"1\" class=\"dataframe\">\n",
       "  <thead>\n",
       "    <tr style=\"text-align: right;\">\n",
       "      <th></th>\n",
       "      <th>content</th>\n",
       "      <th>summary</th>\n",
       "      <th>keywords</th>\n",
       "      <th>category</th>\n",
       "    </tr>\n",
       "  </thead>\n",
       "  <tbody>\n",
       "    <tr>\n",
       "      <th>0</th>\n",
       "      <td>민·관 합동 배터리 얼라이언스 제3차 수출·현안 전략회의가 11일 서울 강남구 한국...</td>\n",
       "      <td>한국에서 민·관 합동 배터리 얼라이언스 제3차 수출·현안 전략회의가 열렸고, 안덕근...</td>\n",
       "      <td>배터리, 수출, 현안</td>\n",
       "      <td>경제 (Gyeongje)</td>\n",
       "    </tr>\n",
       "    <tr>\n",
       "      <th>1</th>\n",
       "      <td>윤신애 의원은 “작년「군산새만금신항 발전위원회 설치 및 운영조례」를 발의, 발전위원...</td>\n",
       "      <td>윤신애 의원은 작년 발의한 군산 새만금신항 발전위원회 설치 및 운영조례로 새만금 개...</td>\n",
       "      <td>윤신애, 새만금, 발전위원회</td>\n",
       "      <td>정치</td>\n",
       "    </tr>\n",
       "    <tr>\n",
       "      <th>2</th>\n",
       "      <td>인더스트리뉴스는 2024년 배터리리포트 기획으로 ‘국가첨단전략산업 이차전지 특화단지...</td>\n",
       "      <td>인더스트리뉴스는 2024년 배터리리포트 기획으로 ‘국가첨단전략산업 이차전지 특화단지...</td>\n",
       "      <td>이차전지, 국내, 충북</td>\n",
       "      <td>산업 (Industry)</td>\n",
       "    </tr>\n",
       "  </tbody>\n",
       "</table>\n",
       "</div>"
      ],
      "text/plain": [
       "                                             content  \\\n",
       "0  민·관 합동 배터리 얼라이언스 제3차 수출·현안 전략회의가 11일 서울 강남구 한국...   \n",
       "1  윤신애 의원은 “작년「군산새만금신항 발전위원회 설치 및 운영조례」를 발의, 발전위원...   \n",
       "2  인더스트리뉴스는 2024년 배터리리포트 기획으로 ‘국가첨단전략산업 이차전지 특화단지...   \n",
       "\n",
       "                                             summary         keywords  \\\n",
       "0  한국에서 민·관 합동 배터리 얼라이언스 제3차 수출·현안 전략회의가 열렸고, 안덕근...      배터리, 수출, 현안   \n",
       "1  윤신애 의원은 작년 발의한 군산 새만금신항 발전위원회 설치 및 운영조례로 새만금 개...  윤신애, 새만금, 발전위원회   \n",
       "2  인더스트리뉴스는 2024년 배터리리포트 기획으로 ‘국가첨단전략산업 이차전지 특화단지...     이차전지, 국내, 충북   \n",
       "\n",
       "        category  \n",
       "0  경제 (Gyeongje)  \n",
       "1             정치  \n",
       "2  산업 (Industry)  "
      ]
     },
     "execution_count": 55,
     "metadata": {},
     "output_type": "execute_result"
    }
   ],
   "source": [
    "# 뉴스 본문을 입력으로 사용하여 카테고리를 분류하는 함수\n",
    "def classify_news_category(content):\n",
    "    response = llm_chain.invoke({\"text\": content})\n",
    "    return response\n",
    "\n",
    "# 결과 확인 - 테스트를 위해서 첫 3행만 별도로 추출하여 카테고리 분류\n",
    "df_test['category'] = df_test['content'].apply(classify_news_category)\n",
    "\n",
    "df_test[['content', 'summary', 'keywords', 'category']]"
   ]
  },
  {
   "cell_type": "markdown",
   "metadata": {},
   "source": [
    "### 키워드에서 한글만 추출"
   ]
  },
  {
   "cell_type": "code",
   "execution_count": 57,
   "metadata": {},
   "outputs": [
    {
     "data": {
      "text/plain": [
       "'경제'"
      ]
     },
     "execution_count": 57,
     "metadata": {},
     "output_type": "execute_result"
    }
   ],
   "source": [
    "import re\n",
    "korean_word = re.findall(r'[가-힣]+', df_test['category'][0])[0]\n",
    "korean_word"
   ]
  },
  {
   "cell_type": "code",
   "execution_count": 58,
   "metadata": {},
   "outputs": [
    {
     "data": {
      "text/plain": [
       "0    경제\n",
       "1    정치\n",
       "2    산업\n",
       "Name: category, dtype: object"
      ]
     },
     "execution_count": 58,
     "metadata": {},
     "output_type": "execute_result"
    }
   ],
   "source": [
    "# 람다 함수를 사용하여 카테고리에서 한글 단어만 추출 \n",
    "df_test['category'].apply(lambda x: re.findall(r'[가-힣]+', x)[0])"
   ]
  },
  {
   "cell_type": "code",
   "execution_count": 59,
   "metadata": {},
   "outputs": [
    {
     "name": "stderr",
     "output_type": "stream",
     "text": [
      "/var/folders/nd/kfl3k2197fv3vr63kpjrnrg00000gn/T/ipykernel_5239/1981466824.py:1: SettingWithCopyWarning: \n",
      "A value is trying to be set on a copy of a slice from a DataFrame.\n",
      "Try using .loc[row_indexer,col_indexer] = value instead\n",
      "\n",
      "See the caveats in the documentation: https://pandas.pydata.org/pandas-docs/stable/user_guide/indexing.html#returning-a-view-versus-a-copy\n",
      "  df_test['category'] = df_test['category'].apply(lambda x: re.findall(r'[가-힣]+', x)[0])\n"
     ]
    },
    {
     "data": {
      "text/html": [
       "<div>\n",
       "<style scoped>\n",
       "    .dataframe tbody tr th:only-of-type {\n",
       "        vertical-align: middle;\n",
       "    }\n",
       "\n",
       "    .dataframe tbody tr th {\n",
       "        vertical-align: top;\n",
       "    }\n",
       "\n",
       "    .dataframe thead th {\n",
       "        text-align: right;\n",
       "    }\n",
       "</style>\n",
       "<table border=\"1\" class=\"dataframe\">\n",
       "  <thead>\n",
       "    <tr style=\"text-align: right;\">\n",
       "      <th></th>\n",
       "      <th>content</th>\n",
       "      <th>summary</th>\n",
       "      <th>keywords</th>\n",
       "      <th>category</th>\n",
       "    </tr>\n",
       "  </thead>\n",
       "  <tbody>\n",
       "    <tr>\n",
       "      <th>0</th>\n",
       "      <td>민·관 합동 배터리 얼라이언스 제3차 수출·현안 전략회의가 11일 서울 강남구 한국...</td>\n",
       "      <td>한국에서 민·관 합동 배터리 얼라이언스 제3차 수출·현안 전략회의가 열렸고, 안덕근...</td>\n",
       "      <td>배터리, 수출, 현안</td>\n",
       "      <td>경제</td>\n",
       "    </tr>\n",
       "    <tr>\n",
       "      <th>1</th>\n",
       "      <td>윤신애 의원은 “작년「군산새만금신항 발전위원회 설치 및 운영조례」를 발의, 발전위원...</td>\n",
       "      <td>윤신애 의원은 작년 발의한 군산 새만금신항 발전위원회 설치 및 운영조례로 새만금 개...</td>\n",
       "      <td>윤신애, 새만금, 발전위원회</td>\n",
       "      <td>정치</td>\n",
       "    </tr>\n",
       "    <tr>\n",
       "      <th>2</th>\n",
       "      <td>인더스트리뉴스는 2024년 배터리리포트 기획으로 ‘국가첨단전략산업 이차전지 특화단지...</td>\n",
       "      <td>인더스트리뉴스는 2024년 배터리리포트 기획으로 ‘국가첨단전략산업 이차전지 특화단지...</td>\n",
       "      <td>이차전지, 국내, 충북</td>\n",
       "      <td>산업</td>\n",
       "    </tr>\n",
       "  </tbody>\n",
       "</table>\n",
       "</div>"
      ],
      "text/plain": [
       "                                             content  \\\n",
       "0  민·관 합동 배터리 얼라이언스 제3차 수출·현안 전략회의가 11일 서울 강남구 한국...   \n",
       "1  윤신애 의원은 “작년「군산새만금신항 발전위원회 설치 및 운영조례」를 발의, 발전위원...   \n",
       "2  인더스트리뉴스는 2024년 배터리리포트 기획으로 ‘국가첨단전략산업 이차전지 특화단지...   \n",
       "\n",
       "                                             summary         keywords category  \n",
       "0  한국에서 민·관 합동 배터리 얼라이언스 제3차 수출·현안 전략회의가 열렸고, 안덕근...      배터리, 수출, 현안       경제  \n",
       "1  윤신애 의원은 작년 발의한 군산 새만금신항 발전위원회 설치 및 운영조례로 새만금 개...  윤신애, 새만금, 발전위원회       정치  \n",
       "2  인더스트리뉴스는 2024년 배터리리포트 기획으로 ‘국가첨단전략산업 이차전지 특화단지...     이차전지, 국내, 충북       산업  "
      ]
     },
     "execution_count": 59,
     "metadata": {},
     "output_type": "execute_result"
    }
   ],
   "source": [
    "df_test['category'] = df_test['category'].apply(lambda x: re.findall(r'[가-힣]+', x)[0])\n",
    "df_test[['content', 'summary', 'keywords', 'category']]"
   ]
  }
 ],
 "metadata": {
  "kernelspec": {
   "display_name": "langchain",
   "language": "python",
   "name": "python3"
  },
  "language_info": {
   "codemirror_mode": {
    "name": "ipython",
    "version": 3
   },
   "file_extension": ".py",
   "mimetype": "text/x-python",
   "name": "python",
   "nbconvert_exporter": "python",
   "pygments_lexer": "ipython3",
   "version": "3.12.5"
  }
 },
 "nbformat": 4,
 "nbformat_minor": 2
}
